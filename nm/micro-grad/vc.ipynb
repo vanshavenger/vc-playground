{
 "cells": [
  {
   "cell_type": "code",
   "execution_count": 6,
   "id": "47dd3b77",
   "metadata": {},
   "outputs": [
    {
     "name": "stdout",
     "output_type": "stream",
     "text": [
      "Requirement already satisfied: numpy in ./.venv/lib/python3.13/site-packages (2.2.6)\n",
      "Note: you may need to restart the kernel to use updated packages.\n"
     ]
    }
   ],
   "source": [
    "pip install numpy\n"
   ]
  },
  {
   "cell_type": "code",
   "execution_count": 7,
   "id": "5b960f8a",
   "metadata": {},
   "outputs": [
    {
     "name": "stdout",
     "output_type": "stream",
     "text": [
      "Collecting matplotlib\n",
      "  Downloading matplotlib-3.10.3-cp313-cp313-macosx_11_0_arm64.whl.metadata (11 kB)\n",
      "Collecting contourpy>=1.0.1 (from matplotlib)\n",
      "  Downloading contourpy-1.3.2-cp313-cp313-macosx_11_0_arm64.whl.metadata (5.5 kB)\n",
      "Collecting cycler>=0.10 (from matplotlib)\n",
      "  Using cached cycler-0.12.1-py3-none-any.whl.metadata (3.8 kB)\n",
      "Collecting fonttools>=4.22.0 (from matplotlib)\n",
      "  Downloading fonttools-4.58.1-cp313-cp313-macosx_10_13_universal2.whl.metadata (106 kB)\n",
      "Collecting kiwisolver>=1.3.1 (from matplotlib)\n",
      "  Using cached kiwisolver-1.4.8-cp313-cp313-macosx_11_0_arm64.whl.metadata (6.2 kB)\n",
      "Requirement already satisfied: numpy>=1.23 in ./.venv/lib/python3.13/site-packages (from matplotlib) (2.2.6)\n",
      "Requirement already satisfied: packaging>=20.0 in ./.venv/lib/python3.13/site-packages (from matplotlib) (25.0)\n",
      "Collecting pillow>=8 (from matplotlib)\n",
      "  Downloading pillow-11.2.1-cp313-cp313-macosx_11_0_arm64.whl.metadata (8.9 kB)\n",
      "Collecting pyparsing>=2.3.1 (from matplotlib)\n",
      "  Using cached pyparsing-3.2.3-py3-none-any.whl.metadata (5.0 kB)\n",
      "Requirement already satisfied: python-dateutil>=2.7 in ./.venv/lib/python3.13/site-packages (from matplotlib) (2.9.0.post0)\n",
      "Requirement already satisfied: six>=1.5 in ./.venv/lib/python3.13/site-packages (from python-dateutil>=2.7->matplotlib) (1.17.0)\n",
      "Downloading matplotlib-3.10.3-cp313-cp313-macosx_11_0_arm64.whl (8.1 MB)\n",
      "\u001b[2K   \u001b[38;2;114;156;31m━━━━━━━━━━━━━━━━━━━━━━━━━━━━━━━━━━━━━━━━\u001b[0m \u001b[32m8.1/8.1 MB\u001b[0m \u001b[31m14.9 MB/s\u001b[0m eta \u001b[36m0:00:00\u001b[0m31m12.1 MB/s\u001b[0m eta \u001b[36m0:00:01\u001b[0m\n",
      "\u001b[?25hDownloading contourpy-1.3.2-cp313-cp313-macosx_11_0_arm64.whl (255 kB)\n",
      "Using cached cycler-0.12.1-py3-none-any.whl (8.3 kB)\n",
      "Downloading fonttools-4.58.1-cp313-cp313-macosx_10_13_universal2.whl (2.7 MB)\n",
      "\u001b[2K   \u001b[38;2;114;156;31m━━━━━━━━━━━━━━━━━━━━━━━━━━━━━━━━━━━━━━━━\u001b[0m \u001b[32m2.7/2.7 MB\u001b[0m \u001b[31m15.6 MB/s\u001b[0m eta \u001b[36m0:00:00\u001b[0m\n",
      "\u001b[?25hUsing cached kiwisolver-1.4.8-cp313-cp313-macosx_11_0_arm64.whl (65 kB)\n",
      "Downloading pillow-11.2.1-cp313-cp313-macosx_11_0_arm64.whl (3.0 MB)\n",
      "\u001b[2K   \u001b[38;2;114;156;31m━━━━━━━━━━━━━━━━━━━━━━━━━━━━━━━━━━━━━━━━\u001b[0m \u001b[32m3.0/3.0 MB\u001b[0m \u001b[31m14.2 MB/s\u001b[0m eta \u001b[36m0:00:00\u001b[0m MB/s\u001b[0m eta \u001b[36m0:00:01\u001b[0m\n",
      "\u001b[?25hUsing cached pyparsing-3.2.3-py3-none-any.whl (111 kB)\n",
      "Installing collected packages: pyparsing, pillow, kiwisolver, fonttools, cycler, contourpy, matplotlib\n",
      "\u001b[2K   \u001b[38;2;114;156;31m━━━━━━━━━━━━━━━━━━━━━━━━━━━━━━━━━━━━━━━━\u001b[0m \u001b[32m7/7\u001b[0m [matplotlib]\u001b[0m \u001b[32m6/7\u001b[0m [matplotlib]ow]\n",
      "\u001b[1A\u001b[2KSuccessfully installed contourpy-1.3.2 cycler-0.12.1 fonttools-4.58.1 kiwisolver-1.4.8 matplotlib-3.10.3 pillow-11.2.1 pyparsing-3.2.3\n",
      "Note: you may need to restart the kernel to use updated packages.\n"
     ]
    }
   ],
   "source": [
    "pip install matplotlib"
   ]
  },
  {
   "cell_type": "code",
   "execution_count": 33,
   "id": "8bdf0e86",
   "metadata": {},
   "outputs": [
    {
     "name": "stdout",
     "output_type": "stream",
     "text": [
      "Collecting graphviz\n",
      "  Downloading graphviz-0.20.3-py3-none-any.whl.metadata (12 kB)\n",
      "Downloading graphviz-0.20.3-py3-none-any.whl (47 kB)\n",
      "Installing collected packages: graphviz\n",
      "Successfully installed graphviz-0.20.3\n",
      "Note: you may need to restart the kernel to use updated packages.\n"
     ]
    }
   ],
   "source": [
    "pip install graphviz"
   ]
  },
  {
   "cell_type": "code",
   "execution_count": 8,
   "id": "b148f6a5",
   "metadata": {},
   "outputs": [],
   "source": [
    "import math\n",
    "import numpy as np \n",
    "import matplotlib.pyplot as plt\n",
    "%matplotlib inline\n"
   ]
  },
  {
   "cell_type": "code",
   "execution_count": 9,
   "id": "61f0aa89",
   "metadata": {},
   "outputs": [],
   "source": [
    "def f(x):\n",
    "    return 3*x**2 - 4*x + 5"
   ]
  },
  {
   "cell_type": "code",
   "execution_count": 10,
   "id": "ae0a33be",
   "metadata": {},
   "outputs": [
    {
     "data": {
      "text/plain": [
       "20.0"
      ]
     },
     "execution_count": 10,
     "metadata": {},
     "output_type": "execute_result"
    }
   ],
   "source": [
    "f(3.0)"
   ]
  },
  {
   "cell_type": "code",
   "execution_count": 13,
   "id": "d468ee4f",
   "metadata": {},
   "outputs": [
    {
     "data": {
      "text/plain": [
       "[<matplotlib.lines.Line2D at 0x10c4a6210>]"
      ]
     },
     "execution_count": 13,
     "metadata": {},
     "output_type": "execute_result"
    },
    {
     "data": {
      "image/png": "[encoded data removed]",
      "text/plain": [
       "<Figure size 640x480 with 1 Axes>"
      ]
     },
     "metadata": {},
     "output_type": "display_data"
    }
   ],
   "source": [
    "xs = np.arange(-5, 5, 0.25)\n",
    "ys = f(xs)\n",
    "plt.plot(xs, ys)"
   ]
  },
  {
   "cell_type": "code",
   "execution_count": 79,
   "id": "d7554ccc",
   "metadata": {},
   "outputs": [
    {
     "data": {
      "text/plain": [
       "Value(data=-18.0)"
      ]
     },
     "execution_count": 79,
     "metadata": {},
     "output_type": "execute_result"
    }
   ],
   "source": [
    "class Value:\n",
    "    def __init__(self, data, _children=(), _op='', label = ''):\n",
    "        self.data = data\n",
    "        self.grad = 0.0\n",
    "        self._prev = set(_children)\n",
    "        self._op = _op\n",
    "        self.label = label\n",
    "\n",
    "    def __repr__(self):\n",
    "        return f\"Value(data={self.data})\"\n",
    "    \n",
    "    def __add__(self, other):\n",
    "        return Value(self.data + other.data, (self, other), \"+\") \n",
    "    def __mul__(self, other):\n",
    "        return Value(self.data * other.data, (self, other), \"*\")\n",
    "    def tanh(self):\n",
    "        n = self.data\n",
    "        t = (math.exp(2*n) - 1) / (math.exp(2*n) + 1)\n",
    "        return Value(t, (self,), \"tanh\")\n",
    "    \n",
    "a = Value(3.0, label='a')\n",
    "b = Value(-3.0, label='b') \n",
    "c = Value(-9.0, label='c')\n",
    "e = a+b; e.label = 'e'\n",
    "d = a*b+c; d.label = 'd'\n",
    "f = Value(-2.0, label='f')\n",
    "L = d*f; L.label = 'L'\n",
    "d"
   ]
  },
  {
   "cell_type": "code",
   "execution_count": 31,
   "id": "53c29d17",
   "metadata": {},
   "outputs": [
    {
     "data": {
      "text/plain": [
       "{Value(data=-9.0), Value(data=-9.0)}"
      ]
     },
     "execution_count": 31,
     "metadata": {},
     "output_type": "execute_result"
    }
   ],
   "source": [
    "d._prev"
   ]
  },
  {
   "cell_type": "code",
   "execution_count": 32,
   "id": "09bde6b1",
   "metadata": {},
   "outputs": [
    {
     "data": {
      "text/plain": [
       "'+'"
      ]
     },
     "execution_count": 32,
     "metadata": {},
     "output_type": "execute_result"
    }
   ],
   "source": [
    "d._op"
   ]
  },
  {
   "cell_type": "code",
   "execution_count": 78,
   "id": "f532a2b5",
   "metadata": {},
   "outputs": [],
   "source": [
    "from graphviz import Digraph\n",
    "\n",
    "def trace(root):\n",
    "    nodes, edges = set(), set()\n",
    "    \n",
    "    def build(v):\n",
    "        if v not in nodes:\n",
    "            nodes.add(v)\n",
    "            for child in v._prev:\n",
    "                edges.add((child, v))\n",
    "                build(child)\n",
    "    \n",
    "    build(root)\n",
    "    return nodes, edges\n",
    "\n",
    "def draw_dot(root):\n",
    "    nodes, edges = trace(root)\n",
    "    dot = Digraph(format='svg', graph_attr={'rankdir': 'LR'})\n",
    "    \n",
    "    for n in nodes:\n",
    "        uid = str(id(n))\n",
    "        # Use curly braces for record shape\n",
    "        dot.node(name=uid, label=f\"{{ {n.label} | data: {n.data:.4f} | grad: {n.grad:.4f} }}\", shape='record')\n",
    "\n",
    "        if n._op:\n",
    "            dot.node(name=uid + n._op, label=n._op, shape='circle')\n",
    "            dot.edge(uid + n._op, uid)\n",
    "\n",
    "    for n1, n2 in edges:\n",
    "        dot.edge(str(id(n1)), str(id(n2)) + n2._op)\n",
    "    \n",
    "    return dot"
   ]
  },
  {
   "cell_type": "code",
   "execution_count": null,
   "id": "00b8b35f",
   "metadata": {},
   "outputs": [
    {
     "data": {
      "image/svg+xml": [
       "<?xml version=\"1.0\" encoding=\"UTF-8\" standalone=\"no\"?>\n",
       "<!DOCTYPE svg PUBLIC \"-//W3C//DTD SVG 1.1//EN\"\n",
       " \"http://www.w3.org/Graphics/SVG/1.1/DTD/svg11.dtd\">\n",
       "<!-- Generated by graphviz version 12.2.1 (20241206.2353)\n",
       " -->\n",
       "<!-- Pages: 1 -->\n",
       "<svg width=\"1071pt\" height=\"154pt\"\n",
       " viewBox=\"0.00 0.00 1070.75 154.00\" xmlns=\"http://www.w3.org/2000/svg\" xmlns:xlink=\"http://www.w3.org/1999/xlink\">\n",
       "<g id=\"graph0\" class=\"graph\" transform=\"scale(1 1) rotate(0) translate(4 150)\">\n",
       "<polygon fill=\"white\" stroke=\"none\" points=\"-4,4 -4,-150 1066.75,-150 1066.75,4 -4,4\"/>\n",
       "<!-- 4534128160 -->\n",
       "<g id=\"node1\" class=\"node\">\n",
       "<title>4534128160</title>\n",
       "<polygon fill=\"none\" stroke=\"black\" points=\"584.25,-109.5 584.25,-145.5 764.25,-145.5 764.25,-109.5 584.25,-109.5\"/>\n",
       "<text text-anchor=\"middle\" x=\"594.5\" y=\"-122.7\" font-family=\"Times,serif\" font-size=\"14.00\">f</text>\n",
       "<polyline fill=\"none\" stroke=\"black\" points=\"604.75,-110 604.75,-145.5\"/>\n",
       "<text text-anchor=\"middle\" x=\"642\" y=\"-122.7\" font-family=\"Times,serif\" font-size=\"14.00\">data: &#45;2.00</text>\n",
       "<polyline fill=\"none\" stroke=\"black\" points=\"679.25,-110 679.25,-145.5\"/>\n",
       "<text text-anchor=\"middle\" x=\"721.75\" y=\"-122.7\" font-family=\"Times,serif\" font-size=\"14.00\">grad: 0.0000</text>\n",
       "</g>\n",
       "<!-- 4534131424* -->\n",
       "<g id=\"node6\" class=\"node\">\n",
       "<title>4534131424*</title>\n",
       "<ellipse fill=\"none\" stroke=\"black\" cx=\"822.75\" cy=\"-99.5\" rx=\"18\" ry=\"18\"/>\n",
       "<text text-anchor=\"middle\" x=\"822.75\" y=\"-94.45\" font-family=\"Times,serif\" font-size=\"14.00\">*</text>\n",
       "</g>\n",
       "<!-- 4534128160&#45;&gt;4534131424* -->\n",
       "<g id=\"edge5\" class=\"edge\">\n",
       "<title>4534128160&#45;&gt;4534131424*</title>\n",
       "<path fill=\"none\" stroke=\"black\" d=\"M764.69,-110.41C775.06,-108.42 784.97,-106.53 793.53,-104.89\"/>\n",
       "<polygon fill=\"black\" stroke=\"black\" points=\"794.01,-108.37 803.17,-103.05 792.69,-101.49 794.01,-108.37\"/>\n",
       "</g>\n",
       "<!-- 4422139440 -->\n",
       "<g id=\"node2\" class=\"node\">\n",
       "<title>4422139440</title>\n",
       "<polygon fill=\"none\" stroke=\"black\" points=\"579.75,-54.5 579.75,-90.5 768.75,-90.5 768.75,-54.5 579.75,-54.5\"/>\n",
       "<text text-anchor=\"middle\" x=\"591.12\" y=\"-67.7\" font-family=\"Times,serif\" font-size=\"14.00\">d</text>\n",
       "<polyline fill=\"none\" stroke=\"black\" points=\"602.5,-55 602.5,-90.5\"/>\n",
       "<text text-anchor=\"middle\" x=\"643.12\" y=\"-67.7\" font-family=\"Times,serif\" font-size=\"14.00\">data: &#45;18.00</text>\n",
       "<polyline fill=\"none\" stroke=\"black\" points=\"683.75,-55 683.75,-90.5\"/>\n",
       "<text text-anchor=\"middle\" x=\"726.25\" y=\"-67.7\" font-family=\"Times,serif\" font-size=\"14.00\">grad: 0.0000</text>\n",
       "</g>\n",
       "<!-- 4422139440&#45;&gt;4534131424* -->\n",
       "<g id=\"edge4\" class=\"edge\">\n",
       "<title>4422139440&#45;&gt;4534131424*</title>\n",
       "<path fill=\"none\" stroke=\"black\" d=\"M768.86,-89.75C777.73,-91.39 786.17,-92.94 793.6,-94.31\"/>\n",
       "<polygon fill=\"black\" stroke=\"black\" points=\"792.74,-97.71 803.21,-96.08 794.01,-90.83 792.74,-97.71\"/>\n",
       "</g>\n",
       "<!-- 4422139440+ -->\n",
       "<g id=\"node3\" class=\"node\">\n",
       "<title>4422139440+</title>\n",
       "<ellipse fill=\"none\" stroke=\"black\" cx=\"525.75\" cy=\"-72.5\" rx=\"18\" ry=\"18\"/>\n",
       "<text text-anchor=\"middle\" x=\"525.75\" y=\"-67.45\" font-family=\"Times,serif\" font-size=\"14.00\">+</text>\n",
       "</g>\n",
       "<!-- 4422139440+&#45;&gt;4422139440 -->\n",
       "<g id=\"edge1\" class=\"edge\">\n",
       "<title>4422139440+&#45;&gt;4422139440</title>\n",
       "<path fill=\"none\" stroke=\"black\" d=\"M544.13,-72.5C550.81,-72.5 559.02,-72.5 568.03,-72.5\"/>\n",
       "<polygon fill=\"black\" stroke=\"black\" points=\"567.86,-76 577.86,-72.5 567.86,-69 567.86,-76\"/>\n",
       "</g>\n",
       "<!-- 4420984448 -->\n",
       "<g id=\"node4\" class=\"node\">\n",
       "<title>4420984448</title>\n",
       "<polygon fill=\"none\" stroke=\"black\" points=\"2.62,-55.5 2.62,-91.5 179.62,-91.5 179.62,-55.5 2.62,-55.5\"/>\n",
       "<text text-anchor=\"middle\" x=\"13.62\" y=\"-68.7\" font-family=\"Times,serif\" font-size=\"14.00\">a</text>\n",
       "<polyline fill=\"none\" stroke=\"black\" points=\"24.62,-56 24.62,-91.5\"/>\n",
       "<text text-anchor=\"middle\" x=\"59.62\" y=\"-68.7\" font-family=\"Times,serif\" font-size=\"14.00\">data: 3.00</text>\n",
       "<polyline fill=\"none\" stroke=\"black\" points=\"94.62,-56 94.62,-91.5\"/>\n",
       "<text text-anchor=\"middle\" x=\"137.12\" y=\"-68.7\" font-family=\"Times,serif\" font-size=\"14.00\">grad: 0.0000</text>\n",
       "</g>\n",
       "<!-- 4422150016* -->\n",
       "<g id=\"node9\" class=\"node\">\n",
       "<title>4422150016*</title>\n",
       "<ellipse fill=\"none\" stroke=\"black\" cx=\"236.25\" cy=\"-45.5\" rx=\"18\" ry=\"18\"/>\n",
       "<text text-anchor=\"middle\" x=\"236.25\" y=\"-40.45\" font-family=\"Times,serif\" font-size=\"14.00\">*</text>\n",
       "</g>\n",
       "<!-- 4420984448&#45;&gt;4422150016* -->\n",
       "<g id=\"edge9\" class=\"edge\">\n",
       "<title>4420984448&#45;&gt;4422150016*</title>\n",
       "<path fill=\"none\" stroke=\"black\" d=\"M179.91,-56.33C189.6,-54.43 198.86,-52.62 206.95,-51.04\"/>\n",
       "<polygon fill=\"black\" stroke=\"black\" points=\"207.59,-54.48 216.73,-49.12 206.24,-47.61 207.59,-54.48\"/>\n",
       "</g>\n",
       "<!-- 4534131424 -->\n",
       "<g id=\"node5\" class=\"node\">\n",
       "<title>4534131424</title>\n",
       "<polygon fill=\"none\" stroke=\"black\" points=\"876.75,-81.5 876.75,-117.5 1062.75,-117.5 1062.75,-81.5 876.75,-81.5\"/>\n",
       "<text text-anchor=\"middle\" x=\"888.88\" y=\"-94.7\" font-family=\"Times,serif\" font-size=\"14.00\">L</text>\n",
       "<polyline fill=\"none\" stroke=\"black\" points=\"901,-82 901,-117.5\"/>\n",
       "<text text-anchor=\"middle\" x=\"939.38\" y=\"-94.7\" font-family=\"Times,serif\" font-size=\"14.00\">data: 36.00</text>\n",
       "<polyline fill=\"none\" stroke=\"black\" points=\"977.75,-82 977.75,-117.5\"/>\n",
       "<text text-anchor=\"middle\" x=\"1020.25\" y=\"-94.7\" font-family=\"Times,serif\" font-size=\"14.00\">grad: 1.0000</text>\n",
       "</g>\n",
       "<!-- 4534131424*&#45;&gt;4534131424 -->\n",
       "<g id=\"edge2\" class=\"edge\">\n",
       "<title>4534131424*&#45;&gt;4534131424</title>\n",
       "<path fill=\"none\" stroke=\"black\" d=\"M841.24,-99.5C847.93,-99.5 856.15,-99.5 865.15,-99.5\"/>\n",
       "<polygon fill=\"black\" stroke=\"black\" points=\"864.95,-103 874.95,-99.5 864.95,-96 864.95,-103\"/>\n",
       "</g>\n",
       "<!-- 4428806928 -->\n",
       "<g id=\"node7\" class=\"node\">\n",
       "<title>4428806928</title>\n",
       "<polygon fill=\"none\" stroke=\"black\" points=\"290.25,-82.5 290.25,-118.5 471.75,-118.5 471.75,-82.5 290.25,-82.5\"/>\n",
       "<text text-anchor=\"middle\" x=\"301.25\" y=\"-95.7\" font-family=\"Times,serif\" font-size=\"14.00\">c</text>\n",
       "<polyline fill=\"none\" stroke=\"black\" points=\"312.25,-83 312.25,-118.5\"/>\n",
       "<text text-anchor=\"middle\" x=\"349.5\" y=\"-95.7\" font-family=\"Times,serif\" font-size=\"14.00\">data: &#45;9.00</text>\n",
       "<polyline fill=\"none\" stroke=\"black\" points=\"386.75,-83 386.75,-118.5\"/>\n",
       "<text text-anchor=\"middle\" x=\"429.25\" y=\"-95.7\" font-family=\"Times,serif\" font-size=\"14.00\">grad: 0.0000</text>\n",
       "</g>\n",
       "<!-- 4428806928&#45;&gt;4422139440+ -->\n",
       "<g id=\"edge8\" class=\"edge\">\n",
       "<title>4428806928&#45;&gt;4422139440+</title>\n",
       "<path fill=\"none\" stroke=\"black\" d=\"M472,-82.85C480.81,-81.12 489.21,-79.47 496.62,-78.02\"/>\n",
       "<polygon fill=\"black\" stroke=\"black\" points=\"497.06,-81.5 506.2,-76.14 495.72,-74.63 497.06,-81.5\"/>\n",
       "</g>\n",
       "<!-- 4422150016 -->\n",
       "<g id=\"node8\" class=\"node\">\n",
       "<title>4422150016</title>\n",
       "<polygon fill=\"none\" stroke=\"black\" points=\"291.38,-27.5 291.38,-63.5 470.62,-63.5 470.62,-27.5 291.38,-27.5\"/>\n",
       "<text text-anchor=\"middle\" x=\"301.25\" y=\"-40.7\" font-family=\"Times,serif\" font-size=\"14.00\"> </text>\n",
       "<polyline fill=\"none\" stroke=\"black\" points=\"311.12,-28 311.12,-63.5\"/>\n",
       "<text text-anchor=\"middle\" x=\"348.38\" y=\"-40.7\" font-family=\"Times,serif\" font-size=\"14.00\">data: &#45;9.00</text>\n",
       "<polyline fill=\"none\" stroke=\"black\" points=\"385.62,-28 385.62,-63.5\"/>\n",
       "<text text-anchor=\"middle\" x=\"428.12\" y=\"-40.7\" font-family=\"Times,serif\" font-size=\"14.00\">grad: 0.0000</text>\n",
       "</g>\n",
       "<!-- 4422150016&#45;&gt;4422139440+ -->\n",
       "<g id=\"edge7\" class=\"edge\">\n",
       "<title>4422150016&#45;&gt;4422139440+</title>\n",
       "<path fill=\"none\" stroke=\"black\" d=\"M470.78,-62.29C480.01,-64.04 488.82,-65.7 496.56,-67.17\"/>\n",
       "<polygon fill=\"black\" stroke=\"black\" points=\"495.75,-70.58 506.23,-69 497.05,-63.7 495.75,-70.58\"/>\n",
       "</g>\n",
       "<!-- 4422150016*&#45;&gt;4422150016 -->\n",
       "<g id=\"edge3\" class=\"edge\">\n",
       "<title>4422150016*&#45;&gt;4422150016</title>\n",
       "<path fill=\"none\" stroke=\"black\" d=\"M254.47,-45.5C261.45,-45.5 270.11,-45.5 279.59,-45.5\"/>\n",
       "<polygon fill=\"black\" stroke=\"black\" points=\"279.54,-49 289.54,-45.5 279.54,-42 279.54,-49\"/>\n",
       "</g>\n",
       "<!-- 4428806608 -->\n",
       "<g id=\"node10\" class=\"node\">\n",
       "<title>4428806608</title>\n",
       "<polygon fill=\"none\" stroke=\"black\" points=\"0,-0.5 0,-36.5 182.25,-36.5 182.25,-0.5 0,-0.5\"/>\n",
       "<text text-anchor=\"middle\" x=\"11.38\" y=\"-13.7\" font-family=\"Times,serif\" font-size=\"14.00\">b</text>\n",
       "<polyline fill=\"none\" stroke=\"black\" points=\"22.75,-1 22.75,-36.5\"/>\n",
       "<text text-anchor=\"middle\" x=\"60\" y=\"-13.7\" font-family=\"Times,serif\" font-size=\"14.00\">data: &#45;3.00</text>\n",
       "<polyline fill=\"none\" stroke=\"black\" points=\"97.25,-1 97.25,-36.5\"/>\n",
       "<text text-anchor=\"middle\" x=\"139.75\" y=\"-13.7\" font-family=\"Times,serif\" font-size=\"14.00\">grad: 0.0000</text>\n",
       "</g>\n",
       "<!-- 4428806608&#45;&gt;4422150016* -->\n",
       "<g id=\"edge6\" class=\"edge\">\n",
       "<title>4428806608&#45;&gt;4422150016*</title>\n",
       "<path fill=\"none\" stroke=\"black\" d=\"M182.36,-35.52C191.19,-37.19 199.62,-38.78 207.04,-40.18\"/>\n",
       "<polygon fill=\"black\" stroke=\"black\" points=\"206.18,-43.58 216.66,-41.99 207.48,-36.7 206.18,-43.58\"/>\n",
       "</g>\n",
       "</g>\n",
       "</svg>\n"
      ],
      "text/plain": [
       "<graphviz.graphs.Digraph at 0x107d77380>"
      ]
     },
     "execution_count": 70,
     "metadata": {},
     "output_type": "execute_result"
    }
   ],
   "source": [
    "draw_dot(L) "
   ]
  },
  {
   "cell_type": "code",
   "execution_count": 67,
   "id": "ce5afe1d",
   "metadata": {},
   "outputs": [],
   "source": [
    "L.grad = 1.0"
   ]
  },
  {
   "cell_type": "code",
   "execution_count": 71,
   "id": "27e46b1d",
   "metadata": {},
   "outputs": [
    {
     "data": {
      "image/png": "[encoded data removed]",
      "text/plain": [
       "<Figure size 640x480 with 1 Axes>"
      ]
     },
     "metadata": {},
     "output_type": "display_data"
    }
   ],
   "source": [
    "plt.plot(np.arange(-5,5,0.2), np.tanh(np.arange(-5,5,0.2)));plt.grid()"
   ]
  },
  {
   "cell_type": "code",
   "execution_count": 93,
   "id": "de21aa29",
   "metadata": {},
   "outputs": [
    {
     "data": {
      "image/svg+xml": [
       "<?xml version=\"1.0\" encoding=\"UTF-8\" standalone=\"no\"?>\n",
       "<!DOCTYPE svg PUBLIC \"-//W3C//DTD SVG 1.1//EN\"\n",
       " \"http://www.w3.org/Graphics/SVG/1.1/DTD/svg11.dtd\">\n",
       "<!-- Generated by graphviz version 12.2.1 (20241206.2353)\n",
       " -->\n",
       "<!-- Pages: 1 -->\n",
       "<svg width=\"1550pt\" height=\"210pt\"\n",
       " viewBox=\"0.00 0.00 1549.57 210.00\" xmlns=\"http://www.w3.org/2000/svg\" xmlns:xlink=\"http://www.w3.org/1999/xlink\">\n",
       "<g id=\"graph0\" class=\"graph\" transform=\"scale(1 1) rotate(0) translate(4 206)\">\n",
       "<polygon fill=\"white\" stroke=\"none\" points=\"-4,4 -4,-206 1545.57,-206 1545.57,4 -4,4\"/>\n",
       "<!-- 4428921360 -->\n",
       "<g id=\"node1\" class=\"node\">\n",
       "<title>4428921360</title>\n",
       "<polygon fill=\"none\" stroke=\"black\" points=\"1033.5,-109.5 1033.5,-145.5 1224.75,-145.5 1224.75,-109.5 1033.5,-109.5\"/>\n",
       "<text text-anchor=\"middle\" x=\"1044.88\" y=\"-122.7\" font-family=\"Times,serif\" font-size=\"14.00\">n</text>\n",
       "<polyline fill=\"none\" stroke=\"black\" points=\"1056.25,-110 1056.25,-145.5\"/>\n",
       "<text text-anchor=\"middle\" x=\"1098\" y=\"-122.7\" font-family=\"Times,serif\" font-size=\"14.00\">data: 0.8814</text>\n",
       "<polyline fill=\"none\" stroke=\"black\" points=\"1139.75,-110 1139.75,-145.5\"/>\n",
       "<text text-anchor=\"middle\" x=\"1182.25\" y=\"-122.7\" font-family=\"Times,serif\" font-size=\"14.00\">grad: 0.0000</text>\n",
       "</g>\n",
       "<!-- 4428912624tanh -->\n",
       "<g id=\"node15\" class=\"node\">\n",
       "<title>4428912624tanh</title>\n",
       "<ellipse fill=\"none\" stroke=\"black\" cx=\"1287.53\" cy=\"-127.5\" rx=\"26.78\" ry=\"26.78\"/>\n",
       "<text text-anchor=\"middle\" x=\"1287.53\" y=\"-122.45\" font-family=\"Times,serif\" font-size=\"14.00\">tanh</text>\n",
       "</g>\n",
       "<!-- 4428921360&#45;&gt;4428912624tanh -->\n",
       "<g id=\"edge13\" class=\"edge\">\n",
       "<title>4428921360&#45;&gt;4428912624tanh</title>\n",
       "<path fill=\"none\" stroke=\"black\" d=\"M1225.17,-127.5C1233.55,-127.5 1241.65,-127.5 1249.08,-127.5\"/>\n",
       "<polygon fill=\"black\" stroke=\"black\" points=\"1248.98,-131 1258.98,-127.5 1248.98,-124 1248.98,-131\"/>\n",
       "</g>\n",
       "<!-- 4428921360+ -->\n",
       "<g id=\"node2\" class=\"node\">\n",
       "<title>4428921360+</title>\n",
       "<ellipse fill=\"none\" stroke=\"black\" cx=\"979.5\" cy=\"-127.5\" rx=\"18\" ry=\"18\"/>\n",
       "<text text-anchor=\"middle\" x=\"979.5\" y=\"-122.45\" font-family=\"Times,serif\" font-size=\"14.00\">+</text>\n",
       "</g>\n",
       "<!-- 4428921360+&#45;&gt;4428921360 -->\n",
       "<g id=\"edge1\" class=\"edge\">\n",
       "<title>4428921360+&#45;&gt;4428921360</title>\n",
       "<path fill=\"none\" stroke=\"black\" d=\"M997.72,-127.5C1004.43,-127.5 1012.69,-127.5 1021.77,-127.5\"/>\n",
       "<polygon fill=\"black\" stroke=\"black\" points=\"1021.7,-131 1031.7,-127.5 1021.7,-124 1021.7,-131\"/>\n",
       "</g>\n",
       "<!-- 4428911168 -->\n",
       "<g id=\"node3\" class=\"node\">\n",
       "<title>4428911168</title>\n",
       "<polygon fill=\"none\" stroke=\"black\" points=\"313.5,-110.5 313.5,-146.5 539.25,-146.5 539.25,-110.5 313.5,-110.5\"/>\n",
       "<text text-anchor=\"middle\" x=\"339.88\" y=\"-123.7\" font-family=\"Times,serif\" font-size=\"14.00\">x1*w1</text>\n",
       "<polyline fill=\"none\" stroke=\"black\" points=\"366.25,-111 366.25,-146.5\"/>\n",
       "<text text-anchor=\"middle\" x=\"410.25\" y=\"-123.7\" font-family=\"Times,serif\" font-size=\"14.00\">data: &#45;6.0000</text>\n",
       "<polyline fill=\"none\" stroke=\"black\" points=\"454.25,-111 454.25,-146.5\"/>\n",
       "<text text-anchor=\"middle\" x=\"496.75\" y=\"-123.7\" font-family=\"Times,serif\" font-size=\"14.00\">grad: 0.0000</text>\n",
       "</g>\n",
       "<!-- 4428920688+ -->\n",
       "<g id=\"node12\" class=\"node\">\n",
       "<title>4428920688+</title>\n",
       "<ellipse fill=\"none\" stroke=\"black\" cx=\"593.25\" cy=\"-100.5\" rx=\"18\" ry=\"18\"/>\n",
       "<text text-anchor=\"middle\" x=\"593.25\" y=\"-95.45\" font-family=\"Times,serif\" font-size=\"14.00\">+</text>\n",
       "</g>\n",
       "<!-- 4428911168&#45;&gt;4428920688+ -->\n",
       "<g id=\"edge8\" class=\"edge\">\n",
       "<title>4428911168&#45;&gt;4428920688+</title>\n",
       "<path fill=\"none\" stroke=\"black\" d=\"M535.97,-110.06C546.18,-108.32 555.79,-106.69 564.08,-105.28\"/>\n",
       "<polygon fill=\"black\" stroke=\"black\" points=\"564.44,-108.77 573.71,-103.65 563.27,-101.87 564.44,-108.77\"/>\n",
       "</g>\n",
       "<!-- 4428911168* -->\n",
       "<g id=\"node4\" class=\"node\">\n",
       "<title>4428911168*</title>\n",
       "<ellipse fill=\"none\" stroke=\"black\" cx=\"259.5\" cy=\"-128.5\" rx=\"18\" ry=\"18\"/>\n",
       "<text text-anchor=\"middle\" x=\"259.5\" y=\"-123.45\" font-family=\"Times,serif\" font-size=\"14.00\">*</text>\n",
       "</g>\n",
       "<!-- 4428911168*&#45;&gt;4428911168 -->\n",
       "<g id=\"edge2\" class=\"edge\">\n",
       "<title>4428911168*&#45;&gt;4428911168</title>\n",
       "<path fill=\"none\" stroke=\"black\" d=\"M277.83,-128.5C284.47,-128.5 292.66,-128.5 301.75,-128.5\"/>\n",
       "<polygon fill=\"black\" stroke=\"black\" points=\"301.73,-132 311.73,-128.5 301.73,-125 301.73,-132\"/>\n",
       "</g>\n",
       "<!-- 4428913744 -->\n",
       "<g id=\"node5\" class=\"node\">\n",
       "<title>4428913744</title>\n",
       "<polygon fill=\"none\" stroke=\"black\" points=\"3.75,-55.5 3.75,-91.5 201.75,-91.5 201.75,-55.5 3.75,-55.5\"/>\n",
       "<text text-anchor=\"middle\" x=\"18.5\" y=\"-68.7\" font-family=\"Times,serif\" font-size=\"14.00\">x2</text>\n",
       "<polyline fill=\"none\" stroke=\"black\" points=\"33.25,-56 33.25,-91.5\"/>\n",
       "<text text-anchor=\"middle\" x=\"75\" y=\"-68.7\" font-family=\"Times,serif\" font-size=\"14.00\">data: 0.0000</text>\n",
       "<polyline fill=\"none\" stroke=\"black\" points=\"116.75,-56 116.75,-91.5\"/>\n",
       "<text text-anchor=\"middle\" x=\"159.25\" y=\"-68.7\" font-family=\"Times,serif\" font-size=\"14.00\">grad: 0.0000</text>\n",
       "</g>\n",
       "<!-- 4428920576* -->\n",
       "<g id=\"node9\" class=\"node\">\n",
       "<title>4428920576*</title>\n",
       "<ellipse fill=\"none\" stroke=\"black\" cx=\"259.5\" cy=\"-73.5\" rx=\"18\" ry=\"18\"/>\n",
       "<text text-anchor=\"middle\" x=\"259.5\" y=\"-68.45\" font-family=\"Times,serif\" font-size=\"14.00\">*</text>\n",
       "</g>\n",
       "<!-- 4428913744&#45;&gt;4428920576* -->\n",
       "<g id=\"edge9\" class=\"edge\">\n",
       "<title>4428913744&#45;&gt;4428920576*</title>\n",
       "<path fill=\"none\" stroke=\"black\" d=\"M202.19,-73.5C212.17,-73.5 221.64,-73.5 229.87,-73.5\"/>\n",
       "<polygon fill=\"black\" stroke=\"black\" points=\"229.79,-77 239.79,-73.5 229.79,-70 229.79,-77\"/>\n",
       "</g>\n",
       "<!-- 4428919904 -->\n",
       "<g id=\"node6\" class=\"node\">\n",
       "<title>4428919904</title>\n",
       "<polygon fill=\"none\" stroke=\"black\" points=\"690.75,-137.5 690.75,-173.5 882,-173.5 882,-137.5 690.75,-137.5\"/>\n",
       "<text text-anchor=\"middle\" x=\"702.12\" y=\"-150.7\" font-family=\"Times,serif\" font-size=\"14.00\">b</text>\n",
       "<polyline fill=\"none\" stroke=\"black\" points=\"713.5,-138 713.5,-173.5\"/>\n",
       "<text text-anchor=\"middle\" x=\"755.25\" y=\"-150.7\" font-family=\"Times,serif\" font-size=\"14.00\">data: 6.8814</text>\n",
       "<polyline fill=\"none\" stroke=\"black\" points=\"797,-138 797,-173.5\"/>\n",
       "<text text-anchor=\"middle\" x=\"839.5\" y=\"-150.7\" font-family=\"Times,serif\" font-size=\"14.00\">grad: 0.0000</text>\n",
       "</g>\n",
       "<!-- 4428919904&#45;&gt;4428921360+ -->\n",
       "<g id=\"edge6\" class=\"edge\">\n",
       "<title>4428919904&#45;&gt;4428921360+</title>\n",
       "<path fill=\"none\" stroke=\"black\" d=\"M882.38,-141.58C907.16,-137.95 931.99,-134.31 950.21,-131.65\"/>\n",
       "<polygon fill=\"black\" stroke=\"black\" points=\"950.53,-135.13 959.92,-130.22 949.52,-128.21 950.53,-135.13\"/>\n",
       "</g>\n",
       "<!-- 4428915872 -->\n",
       "<g id=\"node7\" class=\"node\">\n",
       "<title>4428915872</title>\n",
       "<polygon fill=\"none\" stroke=\"black\" points=\"3.75,-165.5 3.75,-201.5 201.75,-201.5 201.75,-165.5 3.75,-165.5\"/>\n",
       "<text text-anchor=\"middle\" x=\"18.5\" y=\"-178.7\" font-family=\"Times,serif\" font-size=\"14.00\">x1</text>\n",
       "<polyline fill=\"none\" stroke=\"black\" points=\"33.25,-166 33.25,-201.5\"/>\n",
       "<text text-anchor=\"middle\" x=\"75\" y=\"-178.7\" font-family=\"Times,serif\" font-size=\"14.00\">data: 2.0000</text>\n",
       "<polyline fill=\"none\" stroke=\"black\" points=\"116.75,-166 116.75,-201.5\"/>\n",
       "<text text-anchor=\"middle\" x=\"159.25\" y=\"-178.7\" font-family=\"Times,serif\" font-size=\"14.00\">grad: 0.0000</text>\n",
       "</g>\n",
       "<!-- 4428915872&#45;&gt;4428911168* -->\n",
       "<g id=\"edge12\" class=\"edge\">\n",
       "<title>4428915872&#45;&gt;4428911168*</title>\n",
       "<path fill=\"none\" stroke=\"black\" d=\"M180.75,-165.07C189.19,-162.46 197.58,-159.59 205.5,-156.5 215.01,-152.78 225.01,-147.8 233.74,-143.07\"/>\n",
       "<polygon fill=\"black\" stroke=\"black\" points=\"235.29,-146.21 242.3,-138.27 231.87,-140.11 235.29,-146.21\"/>\n",
       "</g>\n",
       "<!-- 4428920576 -->\n",
       "<g id=\"node8\" class=\"node\">\n",
       "<title>4428920576</title>\n",
       "<polygon fill=\"none\" stroke=\"black\" points=\"315.75,-55.5 315.75,-91.5 537,-91.5 537,-55.5 315.75,-55.5\"/>\n",
       "<text text-anchor=\"middle\" x=\"342.12\" y=\"-68.7\" font-family=\"Times,serif\" font-size=\"14.00\">x2*w2</text>\n",
       "<polyline fill=\"none\" stroke=\"black\" points=\"368.5,-56 368.5,-91.5\"/>\n",
       "<text text-anchor=\"middle\" x=\"410.25\" y=\"-68.7\" font-family=\"Times,serif\" font-size=\"14.00\">data: 0.0000</text>\n",
       "<polyline fill=\"none\" stroke=\"black\" points=\"452,-56 452,-91.5\"/>\n",
       "<text text-anchor=\"middle\" x=\"494.5\" y=\"-68.7\" font-family=\"Times,serif\" font-size=\"14.00\">grad: 0.0000</text>\n",
       "</g>\n",
       "<!-- 4428920576&#45;&gt;4428920688+ -->\n",
       "<g id=\"edge10\" class=\"edge\">\n",
       "<title>4428920576&#45;&gt;4428920688+</title>\n",
       "<path fill=\"none\" stroke=\"black\" d=\"M537.35,-91.51C546.96,-93.08 556.01,-94.57 563.88,-95.85\"/>\n",
       "<polygon fill=\"black\" stroke=\"black\" points=\"563.27,-99.3 573.7,-97.46 564.4,-92.39 563.27,-99.3\"/>\n",
       "</g>\n",
       "<!-- 4428920576*&#45;&gt;4428920576 -->\n",
       "<g id=\"edge3\" class=\"edge\">\n",
       "<title>4428920576*&#45;&gt;4428920576</title>\n",
       "<path fill=\"none\" stroke=\"black\" d=\"M277.83,-73.5C285.06,-73.5 294.12,-73.5 304.17,-73.5\"/>\n",
       "<polygon fill=\"black\" stroke=\"black\" points=\"303.92,-77 313.92,-73.5 303.92,-70 303.92,-77\"/>\n",
       "</g>\n",
       "<!-- 4428922704 -->\n",
       "<g id=\"node10\" class=\"node\">\n",
       "<title>4428922704</title>\n",
       "<polygon fill=\"none\" stroke=\"black\" points=\"2.25,-0.5 2.25,-36.5 203.25,-36.5 203.25,-0.5 2.25,-0.5\"/>\n",
       "<text text-anchor=\"middle\" x=\"18.5\" y=\"-13.7\" font-family=\"Times,serif\" font-size=\"14.00\">w2</text>\n",
       "<polyline fill=\"none\" stroke=\"black\" points=\"34.75,-1 34.75,-36.5\"/>\n",
       "<text text-anchor=\"middle\" x=\"76.5\" y=\"-13.7\" font-family=\"Times,serif\" font-size=\"14.00\">data: 1.0000</text>\n",
       "<polyline fill=\"none\" stroke=\"black\" points=\"118.25,-1 118.25,-36.5\"/>\n",
       "<text text-anchor=\"middle\" x=\"160.75\" y=\"-13.7\" font-family=\"Times,serif\" font-size=\"14.00\">grad: 0.0000</text>\n",
       "</g>\n",
       "<!-- 4428922704&#45;&gt;4428920576* -->\n",
       "<g id=\"edge14\" class=\"edge\">\n",
       "<title>4428922704&#45;&gt;4428920576*</title>\n",
       "<path fill=\"none\" stroke=\"black\" d=\"M177.69,-36.94C187.14,-39.86 196.62,-43.06 205.5,-46.5 214.95,-50.16 224.94,-54.98 233.67,-59.54\"/>\n",
       "<polygon fill=\"black\" stroke=\"black\" points=\"231.77,-62.49 242.24,-64.15 235.09,-56.33 231.77,-62.49\"/>\n",
       "</g>\n",
       "<!-- 4428920688 -->\n",
       "<g id=\"node11\" class=\"node\">\n",
       "<title>4428920688</title>\n",
       "<polygon fill=\"none\" stroke=\"black\" points=\"647.25,-82.5 647.25,-118.5 925.5,-118.5 925.5,-82.5 647.25,-82.5\"/>\n",
       "<text text-anchor=\"middle\" x=\"699.87\" y=\"-95.7\" font-family=\"Times,serif\" font-size=\"14.00\">x1*w1 + x2*w2</text>\n",
       "<polyline fill=\"none\" stroke=\"black\" points=\"752.5,-83 752.5,-118.5\"/>\n",
       "<text text-anchor=\"middle\" x=\"796.5\" y=\"-95.7\" font-family=\"Times,serif\" font-size=\"14.00\">data: &#45;6.0000</text>\n",
       "<polyline fill=\"none\" stroke=\"black\" points=\"840.5,-83 840.5,-118.5\"/>\n",
       "<text text-anchor=\"middle\" x=\"883\" y=\"-95.7\" font-family=\"Times,serif\" font-size=\"14.00\">grad: 0.0000</text>\n",
       "</g>\n",
       "<!-- 4428920688&#45;&gt;4428921360+ -->\n",
       "<g id=\"edge7\" class=\"edge\">\n",
       "<title>4428920688&#45;&gt;4428921360+</title>\n",
       "<path fill=\"none\" stroke=\"black\" d=\"M918.29,-118.99C929.89,-120.63 940.67,-122.16 949.82,-123.45\"/>\n",
       "<polygon fill=\"black\" stroke=\"black\" points=\"949.31,-126.91 959.7,-124.84 950.29,-119.98 949.31,-126.91\"/>\n",
       "</g>\n",
       "<!-- 4428920688+&#45;&gt;4428920688 -->\n",
       "<g id=\"edge4\" class=\"edge\">\n",
       "<title>4428920688+&#45;&gt;4428920688</title>\n",
       "<path fill=\"none\" stroke=\"black\" d=\"M611.55,-100.5C618.22,-100.5 626.49,-100.5 635.78,-100.5\"/>\n",
       "<polygon fill=\"black\" stroke=\"black\" points=\"635.6,-104 645.6,-100.5 635.6,-97 635.6,-104\"/>\n",
       "</g>\n",
       "<!-- 4428916096 -->\n",
       "<g id=\"node13\" class=\"node\">\n",
       "<title>4428916096</title>\n",
       "<polygon fill=\"none\" stroke=\"black\" points=\"0,-110.5 0,-146.5 205.5,-146.5 205.5,-110.5 0,-110.5\"/>\n",
       "<text text-anchor=\"middle\" x=\"16.25\" y=\"-123.7\" font-family=\"Times,serif\" font-size=\"14.00\">w1</text>\n",
       "<polyline fill=\"none\" stroke=\"black\" points=\"32.5,-111 32.5,-146.5\"/>\n",
       "<text text-anchor=\"middle\" x=\"76.5\" y=\"-123.7\" font-family=\"Times,serif\" font-size=\"14.00\">data: &#45;3.0000</text>\n",
       "<polyline fill=\"none\" stroke=\"black\" points=\"120.5,-111 120.5,-146.5\"/>\n",
       "<text text-anchor=\"middle\" x=\"163\" y=\"-123.7\" font-family=\"Times,serif\" font-size=\"14.00\">grad: 0.0000</text>\n",
       "</g>\n",
       "<!-- 4428916096&#45;&gt;4428911168* -->\n",
       "<g id=\"edge11\" class=\"edge\">\n",
       "<title>4428916096&#45;&gt;4428911168*</title>\n",
       "<path fill=\"none\" stroke=\"black\" d=\"M205.68,-128.5C214.27,-128.5 222.41,-128.5 229.62,-128.5\"/>\n",
       "<polygon fill=\"black\" stroke=\"black\" points=\"229.6,-132 239.6,-128.5 229.6,-125 229.6,-132\"/>\n",
       "</g>\n",
       "<!-- 4428912624 -->\n",
       "<g id=\"node14\" class=\"node\">\n",
       "<title>4428912624</title>\n",
       "<polygon fill=\"none\" stroke=\"black\" points=\"1350.32,-109.5 1350.32,-145.5 1541.57,-145.5 1541.57,-109.5 1350.32,-109.5\"/>\n",
       "<text text-anchor=\"middle\" x=\"1361.69\" y=\"-122.7\" font-family=\"Times,serif\" font-size=\"14.00\">o</text>\n",
       "<polyline fill=\"none\" stroke=\"black\" points=\"1373.07,-110 1373.07,-145.5\"/>\n",
       "<text text-anchor=\"middle\" x=\"1414.82\" y=\"-122.7\" font-family=\"Times,serif\" font-size=\"14.00\">data: 0.7071</text>\n",
       "<polyline fill=\"none\" stroke=\"black\" points=\"1456.57,-110 1456.57,-145.5\"/>\n",
       "<text text-anchor=\"middle\" x=\"1499.07\" y=\"-122.7\" font-family=\"Times,serif\" font-size=\"14.00\">grad: 0.0000</text>\n",
       "</g>\n",
       "<!-- 4428912624tanh&#45;&gt;4428912624 -->\n",
       "<g id=\"edge5\" class=\"edge\">\n",
       "<title>4428912624tanh&#45;&gt;4428912624</title>\n",
       "<path fill=\"none\" stroke=\"black\" d=\"M1314.71,-127.5C1321.81,-127.5 1329.95,-127.5 1338.62,-127.5\"/>\n",
       "<polygon fill=\"black\" stroke=\"black\" points=\"1338.33,-131 1348.33,-127.5 1338.33,-124 1338.33,-131\"/>\n",
       "</g>\n",
       "</g>\n",
       "</svg>\n"
      ],
      "text/plain": [
       "<graphviz.graphs.Digraph at 0x107ff7890>"
      ]
     },
     "execution_count": 93,
     "metadata": {},
     "output_type": "execute_result"
    }
   ],
   "source": [
    "#inputs\n",
    "x1 = Value(2.0, label='x1')\n",
    "x2 = Value(0.0, label='x2')\n",
    "\n",
    "#weights\n",
    "w1 = Value(-3.0, label='w1')\n",
    "w2 = Value(1.0, label='w2')\n",
    "#bias\n",
    "b = Value(6.8813735870195432, label='b')\n",
    "\n",
    "# x1w1 + x2w2 + b\n",
    "x1w1 = x1 * w1; x1w1.label = 'x1*w1'\n",
    "x2w2 = x2 * w2; x2w2.label = 'x2*w2'\n",
    "x1w1x2w2 = x1w1 + x2w2; x1w1x2w2.label = 'x1*w1 + x2*w2'\n",
    "n = x1w1x2w2 + b; n.label = 'n'\n",
    "o = n.tanh(); o.label = 'o'\n",
    "draw_dot(o)\n",
    "\n"
   ]
  }
 ],
 "metadata": {
  "kernelspec": {
   "display_name": ".venv",
   "language": "python",
   "name": "python3"
  },
  "language_info": {
   "codemirror_mode": {
    "name": "ipython",
    "version": 3
   },
   "file_extension": ".py",
   "mimetype": "text/x-python",
   "name": "python",
   "nbconvert_exporter": "python",
   "pygments_lexer": "ipython3",
   "version": "3.13.3"
  }
 },
 "nbformat": 4,
 "nbformat_minor": 5
}
