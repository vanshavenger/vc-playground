{
 "cells": [
  {
   "cell_type": "code",
   "execution_count": 6,
   "id": "47dd3b77",
   "metadata": {},
   "outputs": [
    {
     "name": "stdout",
     "output_type": "stream",
     "text": [
      "Requirement already satisfied: numpy in ./.venv/lib/python3.13/site-packages (2.2.6)\n",
      "Note: you may need to restart the kernel to use updated packages.\n"
     ]
    }
   ],
   "source": [
    "pip install numpy\n"
   ]
  },
  {
   "cell_type": "code",
   "execution_count": 7,
   "id": "5b960f8a",
   "metadata": {},
   "outputs": [
    {
     "name": "stdout",
     "output_type": "stream",
     "text": [
      "Collecting matplotlib\n",
      "  Downloading matplotlib-3.10.3-cp313-cp313-macosx_11_0_arm64.whl.metadata (11 kB)\n",
      "Collecting contourpy>=1.0.1 (from matplotlib)\n",
      "  Downloading contourpy-1.3.2-cp313-cp313-macosx_11_0_arm64.whl.metadata (5.5 kB)\n",
      "Collecting cycler>=0.10 (from matplotlib)\n",
      "  Using cached cycler-0.12.1-py3-none-any.whl.metadata (3.8 kB)\n",
      "Collecting fonttools>=4.22.0 (from matplotlib)\n",
      "  Downloading fonttools-4.58.1-cp313-cp313-macosx_10_13_universal2.whl.metadata (106 kB)\n",
      "Collecting kiwisolver>=1.3.1 (from matplotlib)\n",
      "  Using cached kiwisolver-1.4.8-cp313-cp313-macosx_11_0_arm64.whl.metadata (6.2 kB)\n",
      "Requirement already satisfied: numpy>=1.23 in ./.venv/lib/python3.13/site-packages (from matplotlib) (2.2.6)\n",
      "Requirement already satisfied: packaging>=20.0 in ./.venv/lib/python3.13/site-packages (from matplotlib) (25.0)\n",
      "Collecting pillow>=8 (from matplotlib)\n",
      "  Downloading pillow-11.2.1-cp313-cp313-macosx_11_0_arm64.whl.metadata (8.9 kB)\n",
      "Collecting pyparsing>=2.3.1 (from matplotlib)\n",
      "  Using cached pyparsing-3.2.3-py3-none-any.whl.metadata (5.0 kB)\n",
      "Requirement already satisfied: python-dateutil>=2.7 in ./.venv/lib/python3.13/site-packages (from matplotlib) (2.9.0.post0)\n",
      "Requirement already satisfied: six>=1.5 in ./.venv/lib/python3.13/site-packages (from python-dateutil>=2.7->matplotlib) (1.17.0)\n",
      "Downloading matplotlib-3.10.3-cp313-cp313-macosx_11_0_arm64.whl (8.1 MB)\n",
      "\u001b[2K   \u001b[38;2;114;156;31m━━━━━━━━━━━━━━━━━━━━━━━━━━━━━━━━━━━━━━━━\u001b[0m \u001b[32m8.1/8.1 MB\u001b[0m \u001b[31m14.9 MB/s\u001b[0m eta \u001b[36m0:00:00\u001b[0m31m12.1 MB/s\u001b[0m eta \u001b[36m0:00:01\u001b[0m\n",
      "\u001b[?25hDownloading contourpy-1.3.2-cp313-cp313-macosx_11_0_arm64.whl (255 kB)\n",
      "Using cached cycler-0.12.1-py3-none-any.whl (8.3 kB)\n",
      "Downloading fonttools-4.58.1-cp313-cp313-macosx_10_13_universal2.whl (2.7 MB)\n",
      "\u001b[2K   \u001b[38;2;114;156;31m━━━━━━━━━━━━━━━━━━━━━━━━━━━━━━━━━━━━━━━━\u001b[0m \u001b[32m2.7/2.7 MB\u001b[0m \u001b[31m15.6 MB/s\u001b[0m eta \u001b[36m0:00:00\u001b[0m\n",
      "\u001b[?25hUsing cached kiwisolver-1.4.8-cp313-cp313-macosx_11_0_arm64.whl (65 kB)\n",
      "Downloading pillow-11.2.1-cp313-cp313-macosx_11_0_arm64.whl (3.0 MB)\n",
      "\u001b[2K   \u001b[38;2;114;156;31m━━━━━━━━━━━━━━━━━━━━━━━━━━━━━━━━━━━━━━━━\u001b[0m \u001b[32m3.0/3.0 MB\u001b[0m \u001b[31m14.2 MB/s\u001b[0m eta \u001b[36m0:00:00\u001b[0m MB/s\u001b[0m eta \u001b[36m0:00:01\u001b[0m\n",
      "\u001b[?25hUsing cached pyparsing-3.2.3-py3-none-any.whl (111 kB)\n",
      "Installing collected packages: pyparsing, pillow, kiwisolver, fonttools, cycler, contourpy, matplotlib\n",
      "\u001b[2K   \u001b[38;2;114;156;31m━━━━━━━━━━━━━━━━━━━━━━━━━━━━━━━━━━━━━━━━\u001b[0m \u001b[32m7/7\u001b[0m [matplotlib]\u001b[0m \u001b[32m6/7\u001b[0m [matplotlib]ow]\n",
      "\u001b[1A\u001b[2KSuccessfully installed contourpy-1.3.2 cycler-0.12.1 fonttools-4.58.1 kiwisolver-1.4.8 matplotlib-3.10.3 pillow-11.2.1 pyparsing-3.2.3\n",
      "Note: you may need to restart the kernel to use updated packages.\n"
     ]
    }
   ],
   "source": [
    "pip install matplotlib"
   ]
  },
  {
   "cell_type": "code",
   "execution_count": 33,
   "id": "8bdf0e86",
   "metadata": {},
   "outputs": [
    {
     "name": "stdout",
     "output_type": "stream",
     "text": [
      "Collecting graphviz\n",
      "  Downloading graphviz-0.20.3-py3-none-any.whl.metadata (12 kB)\n",
      "Downloading graphviz-0.20.3-py3-none-any.whl (47 kB)\n",
      "Installing collected packages: graphviz\n",
      "Successfully installed graphviz-0.20.3\n",
      "Note: you may need to restart the kernel to use updated packages.\n"
     ]
    }
   ],
   "source": [
    "pip install graphviz"
   ]
  },
  {
   "cell_type": "code",
   "execution_count": 8,
   "id": "b148f6a5",
   "metadata": {},
   "outputs": [],
   "source": [
    "import math\n",
    "import numpy as np \n",
    "import matplotlib.pyplot as plt\n",
    "%matplotlib inline\n"
   ]
  },
  {
   "cell_type": "code",
   "execution_count": 9,
   "id": "61f0aa89",
   "metadata": {},
   "outputs": [],
   "source": [
    "def f(x):\n",
    "    return 3*x**2 - 4*x + 5"
   ]
  },
  {
   "cell_type": "code",
   "execution_count": 10,
   "id": "ae0a33be",
   "metadata": {},
   "outputs": [
    {
     "data": {
      "text/plain": [
       "20.0"
      ]
     },
     "execution_count": 10,
     "metadata": {},
     "output_type": "execute_result"
    }
   ],
   "source": [
    "f(3.0)"
   ]
  },
  {
   "cell_type": "code",
   "execution_count": 13,
   "id": "d468ee4f",
   "metadata": {},
   "outputs": [
    {
     "data": {
      "text/plain": [
       "[<matplotlib.lines.Line2D at 0x10c4a6210>]"
      ]
     },
     "execution_count": 13,
     "metadata": {},
     "output_type": "execute_result"
    },
    {
     "data": {
      "image/png": "[encoded data removed]",
      "text/plain": [
       "<Figure size 640x480 with 1 Axes>"
      ]
     },
     "metadata": {},
     "output_type": "display_data"
    }
   ],
   "source": [
    "xs = np.arange(-5, 5, 0.25)\n",
    "ys = f(xs)\n",
    "plt.plot(xs, ys)"
   ]
  },
  {
   "cell_type": "code",
   "execution_count": 53,
   "id": "d7554ccc",
   "metadata": {},
   "outputs": [
    {
     "data": {
      "text/plain": [
       "Value(data=-18.0)"
      ]
     },
     "execution_count": 53,
     "metadata": {},
     "output_type": "execute_result"
    }
   ],
   "source": [
    "class Value:\n",
    "    def __init__(self, data, _children=(), _op='', label = ''):\n",
    "        self.data = data\n",
    "        self._prev = set(_children)\n",
    "        self._op = _op\n",
    "        self.label = label\n",
    "\n",
    "    def __repr__(self):\n",
    "        return f\"Value(data={self.data})\"\n",
    "    \n",
    "    def __add__(self, other):\n",
    "        return Value(self.data + other.data, (self, other), \"+\") \n",
    "    def __mul__(self, other):\n",
    "        return Value(self.data * other.data, (self, other), \"*\")\n",
    "    \n",
    "a = Value(3.0, label='a')\n",
    "b = Value(-3.0 , label='b') \n",
    "c = Value(-9.0, label='c')\n",
    "e = a+b; e.label = 'e'\n",
    "d = a*b+c; d.label = 'd'\n",
    "f = Value(-2.0, label='f')\n",
    "L = d*f;\n",
    "d"
   ]
  },
  {
   "cell_type": "code",
   "execution_count": 31,
   "id": "53c29d17",
   "metadata": {},
   "outputs": [
    {
     "data": {
      "text/plain": [
       "{Value(data=-9.0), Value(data=-9.0)}"
      ]
     },
     "execution_count": 31,
     "metadata": {},
     "output_type": "execute_result"
    }
   ],
   "source": [
    "d._prev"
   ]
  },
  {
   "cell_type": "code",
   "execution_count": 32,
   "id": "09bde6b1",
   "metadata": {},
   "outputs": [
    {
     "data": {
      "text/plain": [
       "'+'"
      ]
     },
     "execution_count": 32,
     "metadata": {},
     "output_type": "execute_result"
    }
   ],
   "source": [
    "d._op"
   ]
  },
  {
   "cell_type": "code",
   "execution_count": 50,
   "id": "f532a2b5",
   "metadata": {},
   "outputs": [],
   "source": [
    "from graphviz import Digraph\n",
    "\n",
    "def trace(root):\n",
    "    nodes, edges = set(), set()\n",
    "    \n",
    "    def build(v):\n",
    "        if v not in nodes:\n",
    "            nodes.add(v)\n",
    "            for child in v._prev:\n",
    "                edges.add((child, v))\n",
    "                build(child)\n",
    "    \n",
    "    build(root)\n",
    "    return nodes, edges\n",
    "\n",
    "def draw_dot(root):\n",
    "    nodes, edges = trace(root)\n",
    "    print(nodes)\n",
    "    print(edges)\n",
    "    dot = Digraph(format='svg', graph_attr={'rankdir': 'LR'})\n",
    "    \n",
    "    for n in nodes:\n",
    "        uid = str(id(n))\n",
    "        dot.node(name=uid, label=f\"{n.label} | {n.data:.2f}\", shape='record')\n",
    "\n",
    "        if n._op:\n",
    "            dot.node(name=uid + n._op, label=n._op, shape='box')\n",
    "            dot.edge(uid + n._op, uid)\n",
    "\n",
    "    for n1, n2 in edges:\n",
    "        dot.edge(str(id(n1)), str(id(n2)) + n2._op)\n",
    "    return dot"
   ]
  },
  {
   "cell_type": "code",
   "execution_count": 54,
   "id": "00b8b35f",
   "metadata": {},
   "outputs": [
    {
     "name": "stdout",
     "output_type": "stream",
     "text": [
      "{Value(data=3.0), Value(data=-3.0), Value(data=-2.0), Value(data=36.0), Value(data=-9.0), Value(data=-18.0), Value(data=-9.0)}\n",
      "{(Value(data=-2.0), Value(data=36.0)), (Value(data=-3.0), Value(data=-9.0)), (Value(data=3.0), Value(data=-9.0)), (Value(data=-9.0), Value(data=-18.0)), (Value(data=-18.0), Value(data=36.0)), (Value(data=-9.0), Value(data=-18.0))}\n"
     ]
    },
    {
     "data": {
      "image/svg+xml": [
       "<?xml version=\"1.0\" encoding=\"UTF-8\" standalone=\"no\"?>\n",
       "<!DOCTYPE svg PUBLIC \"-//W3C//DTD SVG 1.1//EN\"\n",
       " \"http://www.w3.org/Graphics/SVG/1.1/DTD/svg11.dtd\">\n",
       "<!-- Generated by graphviz version 12.2.1 (20241206.2353)\n",
       " -->\n",
       "<!-- Pages: 1 -->\n",
       "<svg width=\"602pt\" height=\"194pt\"\n",
       " viewBox=\"0.00 0.00 602.00 194.00\" xmlns=\"http://www.w3.org/2000/svg\" xmlns:xlink=\"http://www.w3.org/1999/xlink\">\n",
       "<g id=\"graph0\" class=\"graph\" transform=\"scale(1 1) rotate(0) translate(4 190)\">\n",
       "<polygon fill=\"white\" stroke=\"none\" points=\"-4,4 -4,-190 598,-190 598,4 -4,4\"/>\n",
       "<!-- 4458236960 -->\n",
       "<g id=\"node1\" class=\"node\">\n",
       "<title>4458236960</title>\n",
       "<polygon fill=\"none\" stroke=\"black\" points=\"0,-136.5 0,-185.5 54,-185.5 54,-136.5 0,-136.5\"/>\n",
       "<text text-anchor=\"middle\" x=\"27\" y=\"-168.2\" font-family=\"Times,serif\" font-size=\"14.00\">a</text>\n",
       "<polyline fill=\"none\" stroke=\"black\" points=\"0,-161 54,-161\"/>\n",
       "<text text-anchor=\"middle\" x=\"27\" y=\"-143.7\" font-family=\"Times,serif\" font-size=\"14.00\">3.00</text>\n",
       "</g>\n",
       "<!-- 4422150624* -->\n",
       "<g id=\"node10\" class=\"node\">\n",
       "<title>4422150624*</title>\n",
       "<polygon fill=\"none\" stroke=\"black\" points=\"144,-145 90,-145 90,-109 144,-109 144,-145\"/>\n",
       "<text text-anchor=\"middle\" x=\"117\" y=\"-121.95\" font-family=\"Times,serif\" font-size=\"14.00\">*</text>\n",
       "</g>\n",
       "<!-- 4458236960&#45;&gt;4422150624* -->\n",
       "<g id=\"edge6\" class=\"edge\">\n",
       "<title>4458236960&#45;&gt;4422150624*</title>\n",
       "<path fill=\"none\" stroke=\"black\" d=\"M54.4,-150.8C62.15,-147.81 70.76,-144.48 79.04,-141.28\"/>\n",
       "<polygon fill=\"black\" stroke=\"black\" points=\"80.14,-144.61 88.2,-137.74 77.61,-138.08 80.14,-144.61\"/>\n",
       "</g>\n",
       "<!-- 4421433488 -->\n",
       "<g id=\"node2\" class=\"node\">\n",
       "<title>4421433488</title>\n",
       "<polygon fill=\"none\" stroke=\"black\" points=\"0,-68.5 0,-117.5 54,-117.5 54,-68.5 0,-68.5\"/>\n",
       "<text text-anchor=\"middle\" x=\"27\" y=\"-100.2\" font-family=\"Times,serif\" font-size=\"14.00\">b</text>\n",
       "<polyline fill=\"none\" stroke=\"black\" points=\"0,-93 54,-93\"/>\n",
       "<text text-anchor=\"middle\" x=\"27\" y=\"-75.7\" font-family=\"Times,serif\" font-size=\"14.00\">&#45;3.00</text>\n",
       "</g>\n",
       "<!-- 4421433488&#45;&gt;4422150624* -->\n",
       "<g id=\"edge5\" class=\"edge\">\n",
       "<title>4421433488&#45;&gt;4422150624*</title>\n",
       "<path fill=\"none\" stroke=\"black\" d=\"M54.4,-103.2C62.15,-106.19 70.76,-109.52 79.04,-112.72\"/>\n",
       "<polygon fill=\"black\" stroke=\"black\" points=\"77.61,-115.92 88.2,-116.26 80.14,-109.39 77.61,-115.92\"/>\n",
       "</g>\n",
       "<!-- 4534130336 -->\n",
       "<g id=\"node3\" class=\"node\">\n",
       "<title>4534130336</title>\n",
       "<polygon fill=\"none\" stroke=\"black\" points=\"360,-0.5 360,-49.5 414,-49.5 414,-0.5 360,-0.5\"/>\n",
       "<text text-anchor=\"middle\" x=\"387\" y=\"-32.2\" font-family=\"Times,serif\" font-size=\"14.00\">f</text>\n",
       "<polyline fill=\"none\" stroke=\"black\" points=\"360,-25 414,-25\"/>\n",
       "<text text-anchor=\"middle\" x=\"387\" y=\"-7.7\" font-family=\"Times,serif\" font-size=\"14.00\">&#45;2.00</text>\n",
       "</g>\n",
       "<!-- 4534130880* -->\n",
       "<g id=\"node5\" class=\"node\">\n",
       "<title>4534130880*</title>\n",
       "<polygon fill=\"none\" stroke=\"black\" points=\"504,-77 450,-77 450,-41 504,-41 504,-77\"/>\n",
       "<text text-anchor=\"middle\" x=\"477\" y=\"-53.95\" font-family=\"Times,serif\" font-size=\"14.00\">*</text>\n",
       "</g>\n",
       "<!-- 4534130336&#45;&gt;4534130880* -->\n",
       "<g id=\"edge4\" class=\"edge\">\n",
       "<title>4534130336&#45;&gt;4534130880*</title>\n",
       "<path fill=\"none\" stroke=\"black\" d=\"M414.4,-35.2C422.15,-38.19 430.76,-41.52 439.04,-44.72\"/>\n",
       "<polygon fill=\"black\" stroke=\"black\" points=\"437.61,-47.92 448.2,-48.26 440.14,-41.39 437.61,-47.92\"/>\n",
       "</g>\n",
       "<!-- 4534130880 -->\n",
       "<g id=\"node4\" class=\"node\">\n",
       "<title>4534130880</title>\n",
       "<polygon fill=\"none\" stroke=\"black\" points=\"540,-34.5 540,-83.5 594,-83.5 594,-34.5 540,-34.5\"/>\n",
       "<text text-anchor=\"middle\" x=\"567\" y=\"-66.2\" font-family=\"Times,serif\" font-size=\"14.00\"> </text>\n",
       "<polyline fill=\"none\" stroke=\"black\" points=\"540,-59 594,-59\"/>\n",
       "<text text-anchor=\"middle\" x=\"567\" y=\"-41.7\" font-family=\"Times,serif\" font-size=\"14.00\">36.00</text>\n",
       "</g>\n",
       "<!-- 4534130880*&#45;&gt;4534130880 -->\n",
       "<g id=\"edge1\" class=\"edge\">\n",
       "<title>4534130880*&#45;&gt;4534130880</title>\n",
       "<path fill=\"none\" stroke=\"black\" d=\"M504.4,-59C511.89,-59 520.18,-59 528.2,-59\"/>\n",
       "<polygon fill=\"black\" stroke=\"black\" points=\"528.1,-62.5 538.1,-59 528.1,-55.5 528.1,-62.5\"/>\n",
       "</g>\n",
       "<!-- 4421434128 -->\n",
       "<g id=\"node6\" class=\"node\">\n",
       "<title>4421434128</title>\n",
       "<polygon fill=\"none\" stroke=\"black\" points=\"180,-34.5 180,-83.5 234,-83.5 234,-34.5 180,-34.5\"/>\n",
       "<text text-anchor=\"middle\" x=\"207\" y=\"-66.2\" font-family=\"Times,serif\" font-size=\"14.00\">c</text>\n",
       "<polyline fill=\"none\" stroke=\"black\" points=\"180,-59 234,-59\"/>\n",
       "<text text-anchor=\"middle\" x=\"207\" y=\"-41.7\" font-family=\"Times,serif\" font-size=\"14.00\">&#45;9.00</text>\n",
       "</g>\n",
       "<!-- 4422135120+ -->\n",
       "<g id=\"node8\" class=\"node\">\n",
       "<title>4422135120+</title>\n",
       "<polygon fill=\"none\" stroke=\"black\" points=\"324,-111 270,-111 270,-75 324,-75 324,-111\"/>\n",
       "<text text-anchor=\"middle\" x=\"297\" y=\"-87.95\" font-family=\"Times,serif\" font-size=\"14.00\">+</text>\n",
       "</g>\n",
       "<!-- 4421434128&#45;&gt;4422135120+ -->\n",
       "<g id=\"edge9\" class=\"edge\">\n",
       "<title>4421434128&#45;&gt;4422135120+</title>\n",
       "<path fill=\"none\" stroke=\"black\" d=\"M234.4,-69.2C242.15,-72.19 250.76,-75.52 259.04,-78.72\"/>\n",
       "<polygon fill=\"black\" stroke=\"black\" points=\"257.61,-81.92 268.2,-82.26 260.14,-75.39 257.61,-81.92\"/>\n",
       "</g>\n",
       "<!-- 4422135120 -->\n",
       "<g id=\"node7\" class=\"node\">\n",
       "<title>4422135120</title>\n",
       "<polygon fill=\"none\" stroke=\"black\" points=\"360,-68.5 360,-117.5 414,-117.5 414,-68.5 360,-68.5\"/>\n",
       "<text text-anchor=\"middle\" x=\"387\" y=\"-100.2\" font-family=\"Times,serif\" font-size=\"14.00\">d</text>\n",
       "<polyline fill=\"none\" stroke=\"black\" points=\"360,-93 414,-93\"/>\n",
       "<text text-anchor=\"middle\" x=\"387\" y=\"-75.7\" font-family=\"Times,serif\" font-size=\"14.00\">&#45;18.00</text>\n",
       "</g>\n",
       "<!-- 4422135120&#45;&gt;4534130880* -->\n",
       "<g id=\"edge8\" class=\"edge\">\n",
       "<title>4422135120&#45;&gt;4534130880*</title>\n",
       "<path fill=\"none\" stroke=\"black\" d=\"M414.4,-82.8C422.15,-79.81 430.76,-76.48 439.04,-73.28\"/>\n",
       "<polygon fill=\"black\" stroke=\"black\" points=\"440.14,-76.61 448.2,-69.74 437.61,-70.08 440.14,-76.61\"/>\n",
       "</g>\n",
       "<!-- 4422135120+&#45;&gt;4422135120 -->\n",
       "<g id=\"edge2\" class=\"edge\">\n",
       "<title>4422135120+&#45;&gt;4422135120</title>\n",
       "<path fill=\"none\" stroke=\"black\" d=\"M324.4,-93C331.89,-93 340.18,-93 348.2,-93\"/>\n",
       "<polygon fill=\"black\" stroke=\"black\" points=\"348.1,-96.5 358.1,-93 348.1,-89.5 348.1,-96.5\"/>\n",
       "</g>\n",
       "<!-- 4422150624 -->\n",
       "<g id=\"node9\" class=\"node\">\n",
       "<title>4422150624</title>\n",
       "<polygon fill=\"none\" stroke=\"black\" points=\"180,-102.5 180,-151.5 234,-151.5 234,-102.5 180,-102.5\"/>\n",
       "<text text-anchor=\"middle\" x=\"207\" y=\"-134.2\" font-family=\"Times,serif\" font-size=\"14.00\"> </text>\n",
       "<polyline fill=\"none\" stroke=\"black\" points=\"180,-127 234,-127\"/>\n",
       "<text text-anchor=\"middle\" x=\"207\" y=\"-109.7\" font-family=\"Times,serif\" font-size=\"14.00\">&#45;9.00</text>\n",
       "</g>\n",
       "<!-- 4422150624&#45;&gt;4422135120+ -->\n",
       "<g id=\"edge7\" class=\"edge\">\n",
       "<title>4422150624&#45;&gt;4422135120+</title>\n",
       "<path fill=\"none\" stroke=\"black\" d=\"M234.4,-116.8C242.15,-113.81 250.76,-110.48 259.04,-107.28\"/>\n",
       "<polygon fill=\"black\" stroke=\"black\" points=\"260.14,-110.61 268.2,-103.74 257.61,-104.08 260.14,-110.61\"/>\n",
       "</g>\n",
       "<!-- 4422150624*&#45;&gt;4422150624 -->\n",
       "<g id=\"edge3\" class=\"edge\">\n",
       "<title>4422150624*&#45;&gt;4422150624</title>\n",
       "<path fill=\"none\" stroke=\"black\" d=\"M144.4,-127C151.89,-127 160.18,-127 168.2,-127\"/>\n",
       "<polygon fill=\"black\" stroke=\"black\" points=\"168.1,-130.5 178.1,-127 168.1,-123.5 168.1,-130.5\"/>\n",
       "</g>\n",
       "</g>\n",
       "</svg>\n"
      ],
      "text/plain": [
       "<graphviz.graphs.Digraph at 0x109bfbe50>"
      ]
     },
     "execution_count": 54,
     "metadata": {},
     "output_type": "execute_result"
    }
   ],
   "source": [
    "draw_dot(L)"
   ]
  }
 ],
 "metadata": {
  "kernelspec": {
   "display_name": ".venv",
   "language": "python",
   "name": "python3"
  },
  "language_info": {
   "codemirror_mode": {
    "name": "ipython",
    "version": 3
   },
   "file_extension": ".py",
   "mimetype": "text/x-python",
   "name": "python",
   "nbconvert_exporter": "python",
   "pygments_lexer": "ipython3",
   "version": "3.13.3"
  }
 },
 "nbformat": 4,
 "nbformat_minor": 5
}
