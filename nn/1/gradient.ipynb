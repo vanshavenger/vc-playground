{
 "cells": [
  {
   "cell_type": "code",
   "execution_count": null,
   "id": "ce4f7fad",
   "metadata": {},
   "outputs": [],
   "source": [
    "import pandas as pd\n",
    "import matplotlib.pyplot as plt\n",
    "import seaborn as sns\n",
    "import numpy as np\n",
    "%matplotlib inline\n",
    "import tensorflow as tf\n",
    "from tensorflow import keras"
   ]
  },
  {
   "cell_type": "code",
   "execution_count": null,
   "id": "d4c26257",
   "metadata": {},
   "outputs": [],
   "source": [
    "df = pd.read_csv(\n",
    "    \"https://raw.githubusercontent.com/codebasics/deep-learning-keras-tf-tutorial/refs/heads/master/8_sgd_vs_gd/homeprices_banglore.csv\")\n",
    "df.head()"
   ]
  },
  {
   "cell_type": "code",
   "execution_count": null,
   "id": "7040cb15",
   "metadata": {},
   "outputs": [],
   "source": [
    "from sklearn.preprocessing import MinMaxScaler\n",
    "\n",
    "sx = MinMaxScaler()\n",
    "sy = MinMaxScaler()\n",
    "\n",
    "scaled_X = sx.fit_transform(df.drop(\"price\", axis=\"columns\"))\n"
   ]
  },
  {
   "cell_type": "code",
   "execution_count": null,
   "id": "740f0bc2",
   "metadata": {},
   "outputs": [],
   "source": [
    "scaled_y = sy.fit_transform(df[\"price\"].values.reshape(df.shape[0], 1))"
   ]
  },
  {
   "cell_type": "code",
   "execution_count": null,
   "id": "3931e3cd",
   "metadata": {},
   "outputs": [],
   "source": [
    "def batch_gradient_descent(X, y_true, epochs, learning_rate=0.01):\n",
    "    number_of_features = X.shape[1]\n",
    "    w = np.ones(shape=(number_of_features))\n",
    "    b = 0\n",
    "    total_samples = X.shape[0]\n",
    "    cost_list = []\n",
    "    epochs_list = []\n",
    "    \n",
    "    y_true = y_true.flatten()\n",
    "    \n",
    "    for i in range(epochs):\n",
    "        y_predicted = np.dot(X, w) + b\n",
    "        error = y_true - y_predicted\n",
    "        \n",
    "        w_grad = -(2/total_samples) * np.dot(X.T, error)\n",
    "        b_grad = -(2/total_samples) * np.sum(error)\n",
    "        \n",
    "        w = w - learning_rate * w_grad\n",
    "        b = b - learning_rate * b_grad\n",
    "        \n",
    "        cost = np.mean(np.square(error))\n",
    "        \n",
    "        if i % 100 == 0:\n",
    "            cost_list.append(cost)\n",
    "            epochs_list.append(i)\n",
    "            print(f\"epoch {i} w: {w} b: {b:.6f} cost: {cost:.6f}\")\n",
    "\n",
    "    return w, b, cost, cost_list, epochs_list"
   ]
  },
  {
   "cell_type": "code",
   "execution_count": null,
   "id": "6d6e09e3",
   "metadata": {},
   "outputs": [],
   "source": [
    "w,b, cost, cost_list, epochs_list = batch_gradient_descent(scaled_X, scaled_y, epochs=2000)"
   ]
  },
  {
   "cell_type": "code",
   "execution_count": null,
   "id": "8204bf82",
   "metadata": {},
   "outputs": [],
   "source": [
    "plt.xlabel(\"epochs\")\n",
    "plt.ylabel(\"cost\")\n",
    "plt.plot(epochs_list, cost_list)\n",
    "plt.show()"
   ]
  },
  {
   "cell_type": "code",
   "execution_count": null,
   "id": "5da87e97",
   "metadata": {},
   "outputs": [],
   "source": [
    "import warnings\n",
    "warnings.filterwarnings('ignore')\n",
    "\n",
    "def predict(area, bedrooms, w, b):\n",
    "    scaled_X = sx.transform([[area, bedrooms]])\n",
    "    y_pred_scaled = np.dot(scaled_X, w) + b\n",
    "    \n",
    "    y_pred = sy.inverse_transform([[y_pred_scaled[0]]])\n",
    "    return y_pred[0][0]\n",
    "\n",
    "\n",
    "predicted_price = predict(2600, 4, w, b)\n",
    "print(f\"₹{predicted_price:.2f} lakhs\")\n"
   ]
  },
  {
   "cell_type": "code",
   "execution_count": null,
   "id": "89ced439",
   "metadata": {},
   "outputs": [],
   "source": [
    "def stochastic_gradient_descent(X, y_true, epochs, learning_rate=0.01):\n",
    "    number_of_features = X.shape[1]\n",
    "    w = np.ones(shape=(number_of_features))\n",
    "    b = 0\n",
    "    total_samples = X.shape[0]\n",
    "    cost_list = []\n",
    "    epochs_list = []\n",
    "    \n",
    "    y_true = y_true.flatten()\n",
    "    \n",
    "    for i in range(epochs):\n",
    "        random_index = np.random.randint(total_samples)\n",
    "        X_sample = X[random_index]\n",
    "        y_sample = y_true[random_index]\n",
    "        \n",
    "        y_predicted = np.dot(w, X_sample) + b\n",
    "        error = y_sample - y_predicted\n",
    "\n",
    "        w_grad = -2 * X_sample * error  \n",
    "        b_grad = -2 * error           \n",
    "        \n",
    "        w = w - learning_rate * w_grad\n",
    "        b = b - learning_rate * b_grad\n",
    "        \n",
    "        cost = np.mean(np.square(error))\n",
    "        \n",
    "        if i % 100 == 0:\n",
    "            cost_list.append(cost)\n",
    "            epochs_list.append(i)\n",
    "            print(f\"epoch {i} w: {w} b: {b:.6f} cost: {cost:.6f}\")\n",
    "            \n",
    "    return w, b, cost, cost_list, epochs_list"
   ]
  },
  {
   "cell_type": "code",
   "execution_count": null,
   "id": "f2417fe0",
   "metadata": {},
   "outputs": [],
   "source": [
    "w,b, cost, cost_list, epochs_list = stochastic_gradient_descent(scaled_X, scaled_y, epochs=2000)"
   ]
  },
  {
   "cell_type": "code",
   "execution_count": null,
   "id": "293a53b0",
   "metadata": {},
   "outputs": [],
   "source": [
    "predicted_price = predict(2600, 4, w, b)\n",
    "print(f\"₹{predicted_price:.2f} lakhs\")"
   ]
  },
  {
   "cell_type": "code",
   "execution_count": null,
   "id": "c2741d08",
   "metadata": {},
   "outputs": [],
   "source": [
    "plt.xlabel(\"epochs\")\n",
    "plt.ylabel(\"cost\")\n",
    "plt.plot(epochs_list, cost_list)\n",
    "plt.show()"
   ]
  },
  {
   "cell_type": "code",
   "execution_count": null,
   "id": "78e5667b",
   "metadata": {},
   "outputs": [],
   "source": [
    "def mini_batch_gradient_descent(X, y_true, epochs, batch_size=5, learning_rate=0.01):\n",
    "    number_of_features = X.shape[1]\n",
    "    w = np.ones(shape=(number_of_features))\n",
    "    b = 0\n",
    "    total_samples = X.shape[0]\n",
    "    cost_list = []\n",
    "    epochs_list = []\n",
    "    \n",
    "    y_true = y_true.flatten()\n",
    "    \n",
    "    for i in range(epochs):\n",
    "        for j in range(0, total_samples, batch_size):\n",
    "            X_batch = X[j:j+batch_size]\n",
    "            y_batch = y_true[j:j+batch_size]\n",
    "            \n",
    "            y_predicted = np.dot(X_batch, w) + b\n",
    "            error = y_batch - y_predicted\n",
    "            \n",
    "            w_grad = -(2/batch_size) * np.dot(X_batch.T, error)\n",
    "            b_grad = -(2/batch_size) * np.sum(error)\n",
    "            \n",
    "            w = w - learning_rate * w_grad\n",
    "            b = b - learning_rate * b_grad\n",
    "        \n",
    "        y_predicted_full = np.dot(X, w) + b\n",
    "        error_full = y_true - y_predicted_full\n",
    "        cost = np.mean(np.square(error_full))\n",
    "        \n",
    "        if i % 100 == 0:\n",
    "            cost_list.append(cost)\n",
    "            epochs_list.append(i)\n",
    "            print(f\"epoch {i} w: {w} b: {b:.6f} cost: {cost:.6f}\")\n",
    "            \n",
    "    return w, b, cost, cost_list, epochs_list"
   ]
  },
  {
   "cell_type": "code",
   "execution_count": null,
   "id": "f42d7bac",
   "metadata": {},
   "outputs": [],
   "source": [
    "\n",
    "w_mini, b_mini, cost_mini, cost_list_mini, epochs_list_mini = mini_batch_gradient_descent(scaled_X, scaled_y, epochs=1000, batch_size=5)"
   ]
  },
  {
   "cell_type": "code",
   "execution_count": null,
   "id": "309ba5f2",
   "metadata": {},
   "outputs": [],
   "source": [
    "predicted_price = predict(2600, 4, w_mini, b_mini)\n",
    "print(f\"₹{predicted_price:.2f} lakhs\")"
   ]
  }
 ],
 "metadata": {
  "kernelspec": {
   "display_name": "1 (3.13.7)",
   "language": "python",
   "name": "python3"
  },
  "language_info": {
   "codemirror_mode": {
    "name": "ipython",
    "version": 3
   },
   "file_extension": ".py",
   "mimetype": "text/x-python",
   "name": "python",
   "nbconvert_exporter": "python",
   "pygments_lexer": "ipython3",
   "version": "3.13.7"
  }
 },
 "nbformat": 4,
 "nbformat_minor": 5
}
