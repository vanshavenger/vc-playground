{
 "cells": [
  {
   "cell_type": "code",
   "execution_count": null,
   "id": "f3d5a4b8",
   "metadata": {},
   "outputs": [],
   "source": [
    "import numpy as np\n",
    "import matplotlib.pyplot as plt\n",
    "import tensorflow as tf\n",
    "from tensorflow import keras\n",
    "from keras import layers\n",
    "\n",
    "from tensorflow.keras.preprocessing.text import one_hot\n",
    "from tensorflow.keras.preprocessing.sequence import pad_sequences\n",
    "\n",
    "%matplotlib inline\n",
    "import cv2\n",
    "import PIL"
   ]
  },
  {
   "cell_type": "code",
   "execution_count": null,
   "id": "31ad4bf9",
   "metadata": {},
   "outputs": [],
   "source": [
    "reviews_ds = tf.data.Dataset.list_files('reviews/*/*', shuffle=False)"
   ]
  },
  {
   "cell_type": "code",
   "execution_count": null,
   "id": "d85e0f6c",
   "metadata": {},
   "outputs": [],
   "source": [
    "\n",
    "import os\n",
    "\n",
    "\n",
    "def extract_review_and_label(file_path):\n",
    "    return tf.io.read_file(file_path), tf.strings.split(file_path, os.path.sep)[-2]"
   ]
  },
  {
   "cell_type": "code",
   "execution_count": null,
   "id": "a62d2a60",
   "metadata": {},
   "outputs": [],
   "source": [
    "reviews_ds = reviews_ds.map(extract_review_and_label)\n",
    "for review, label in reviews_ds.take(5):\n",
    "    print(\"Review: \", review.numpy()[:100], \"...\")\n",
    "    print(\"Label: \", label.numpy())\n",
    "    print()"
   ]
  },
  {
   "cell_type": "code",
   "execution_count": null,
   "id": "1d634ecf",
   "metadata": {},
   "outputs": [],
   "source": [
    "reviews_ds = reviews_ds.filter(lambda x, y: tf.strings.length(x) > 0)\n",
    "reviews_ds = reviews_ds.map(lambda x, y: (tf.strings.substr(x, 0, 300), y))\n",
    "for review, label in reviews_ds.take(5):\n",
    "    print(\"Review: \", review.numpy()[:100], \"...\")\n",
    "    print(\"Label: \", label.numpy())\n",
    "    print()\n",
    "\n"
   ]
  }
 ],
 "metadata": {
  "kernelspec": {
   "display_name": "1 (3.12.9)",
   "language": "python",
   "name": "python3"
  },
  "language_info": {
   "codemirror_mode": {
    "name": "ipython",
    "version": 3
   },
   "file_extension": ".py",
   "mimetype": "text/x-python",
   "name": "python",
   "nbconvert_exporter": "python",
   "pygments_lexer": "ipython3",
   "version": "3.12.9"
  }
 },
 "nbformat": 4,
 "nbformat_minor": 5
}
