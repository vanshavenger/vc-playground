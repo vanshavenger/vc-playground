{
 "cells": [
  {
   "cell_type": "code",
   "execution_count": null,
   "id": "557ed080",
   "metadata": {},
   "outputs": [],
   "source": [
    "import numpy as np\n",
    "import matplotlib.pyplot as plt\n",
    "import tensorflow as tf\n",
    "from tensorflow import keras\n",
    "from keras import layers\n",
    "\n",
    "from tensorflow.keras.preprocessing.text import one_hot\n",
    "from tensorflow.keras.preprocessing.sequence import pad_sequences\n",
    "\n",
    "%matplotlib inline\n",
    "import cv2\n",
    "import PIL"
   ]
  },
  {
   "cell_type": "code",
   "execution_count": null,
   "id": "7c37604d",
   "metadata": {},
   "outputs": [],
   "source": [
    "images_ds = tf.data.Dataset.list_files('images/*/*', shuffle=False)"
   ]
  },
  {
   "cell_type": "code",
   "execution_count": null,
   "id": "edbb235d",
   "metadata": {},
   "outputs": [],
   "source": [
    "image_count = len(images_ds)\n",
    "image_count"
   ]
  },
  {
   "cell_type": "code",
   "execution_count": null,
   "id": "1ebe3d99",
   "metadata": {},
   "outputs": [],
   "source": [
    "images_ds = images_ds.shuffle(200)\n",
    "for file in images_ds.take(3):\n",
    "    print(file.numpy())"
   ]
  },
  {
   "cell_type": "code",
   "execution_count": null,
   "id": "01668d67",
   "metadata": {},
   "outputs": [],
   "source": [
    "class_names = [\"cat\", \"dog\"]"
   ]
  },
  {
   "cell_type": "code",
   "execution_count": null,
   "id": "790a15b8",
   "metadata": {},
   "outputs": [],
   "source": [
    "train_size = int(image_count*0.8)\n",
    "train_ds = images_ds.take(train_size)\n",
    "test_ds = images_ds.skip(train_size)"
   ]
  },
  {
   "cell_type": "code",
   "execution_count": null,
   "id": "85a8ec0d",
   "metadata": {},
   "outputs": [],
   "source": [
    "def get_label(file_path):\n",
    "    import os\n",
    "    parts = tf.strings.split(file_path, os.path.sep)\n",
    "    return parts[-2]"
   ]
  },
  {
   "cell_type": "code",
   "execution_count": null,
   "id": "08216301",
   "metadata": {},
   "outputs": [],
   "source": [
    "def process_image(file_path):\n",
    "    label = get_label(file_path)\n",
    "    img = tf.io.read_file(file_path)\n",
    "    img = tf.image.decode_jpeg(img)\n",
    "    img = tf.image.resize(img, [128, 128])\n",
    "    return img, label"
   ]
  },
  {
   "cell_type": "code",
   "execution_count": null,
   "id": "046aaa3e",
   "metadata": {},
   "outputs": [],
   "source": [
    "img, label = process_image(\n",
    "    \"images/cat/20 Reasons Why Cats Make the Best Pets....jpg\")\n",
    "img.numpy()[:2]"
   ]
  },
  {
   "cell_type": "code",
   "execution_count": null,
   "id": "2ffd3bb3",
   "metadata": {},
   "outputs": [],
   "source": [
    "train_ds = train_ds.map(process_image)\n",
    "test_ds = test_ds.map(process_image)"
   ]
  },
  {
   "cell_type": "code",
   "execution_count": null,
   "id": "93b4f80f",
   "metadata": {},
   "outputs": [],
   "source": [
    "for image, label in train_ds.take(1):\n",
    "    print(\"****\", image)\n",
    "    print(\"****\", label)"
   ]
  },
  {
   "cell_type": "code",
   "execution_count": null,
   "id": "f8a2d3a9",
   "metadata": {},
   "outputs": [],
   "source": [
    "def scale(image, label):\n",
    "    return image/255, label\n",
    "\n",
    "\n",
    "train_ds = train_ds.map(scale)"
   ]
  },
  {
   "cell_type": "code",
   "execution_count": null,
   "id": "8c7987d5",
   "metadata": {},
   "outputs": [],
   "source": [
    "for image, label in train_ds.take(5):\n",
    "    print(\"****Image: \", image.numpy()[0][0])\n",
    "    print(\"****Label: \", label.numpy())"
   ]
  }
 ],
 "metadata": {
  "kernelspec": {
   "display_name": "1 (3.12.9)",
   "language": "python",
   "name": "python3"
  },
  "language_info": {
   "codemirror_mode": {
    "name": "ipython",
    "version": 3
   },
   "file_extension": ".py",
   "mimetype": "text/x-python",
   "name": "python",
   "nbconvert_exporter": "python",
   "pygments_lexer": "ipython3",
   "version": "3.12.9"
  }
 },
 "nbformat": 4,
 "nbformat_minor": 5
}
