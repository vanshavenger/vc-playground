{
 "cells": [
  {
   "cell_type": "code",
   "execution_count": null,
   "id": "fed79986",
   "metadata": {},
   "outputs": [],
   "source": [
    "import tensorflow as tf\n",
    "import tensorflow_hub as hub\n",
    "\n",
    "%matplotlib inline"
   ]
  },
  {
   "cell_type": "code",
   "execution_count": null,
   "id": "1a9d9e15",
   "metadata": {},
   "outputs": [],
   "source": [
    "hub.KerasLayer(\n",
    "    \"https://www.kaggle.com/models/google/mobilenet-v2/TensorFlow2/035-128-classification/2\",\n",
    "    trainable=True,\n",
    "    arguments=dict(batch_norm_momentum=0.997),\n",
    ")"
   ]
  },
  {
   "cell_type": "code",
   "execution_count": null,
   "id": "034d3641",
   "metadata": {},
   "outputs": [],
   "source": [
    "IMAGE_SHAPE = (224, 224)\n",
    "classifier = tf.keras.Sequential(\n",
    "    [\n",
    "        hub.KerasLayer(\n",
    "            \"https://www.kaggle.com/models/google/mobilenet-v2/TensorFlow2/035-128-classification/2\",\n",
    "            input_shape=IMAGE_SHAPE + (3,),\n",
    "        )\n",
    "    ]\n",
    ")"
   ]
  }
 ],
 "metadata": {
  "kernelspec": {
   "display_name": "1 (3.13.7)",
   "language": "python",
   "name": "python3"
  },
  "language_info": {
   "codemirror_mode": {
    "name": "ipython",
    "version": 3
   },
   "file_extension": ".py",
   "mimetype": "text/x-python",
   "name": "python",
   "nbconvert_exporter": "python",
   "pygments_lexer": "ipython3",
   "version": "3.13.7"
  }
 },
 "nbformat": 4,
 "nbformat_minor": 5
}
