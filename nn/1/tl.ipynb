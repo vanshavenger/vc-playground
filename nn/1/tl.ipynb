{
 "cells": [
  {
   "cell_type": "code",
   "execution_count": null,
   "id": "fed79986",
   "metadata": {},
   "outputs": [],
   "source": [
    "import tensorflow as tf\n",
    "import tensorflow_hub as hub\n",
    "import cv2\n",
    "\n",
    "%matplotlib inline"
   ]
  },
  {
   "cell_type": "code",
   "execution_count": null,
   "id": "1a9d9e15",
   "metadata": {},
   "outputs": [],
   "source": [
    "hub.KerasLayer(\n",
    "    \"https://www.kaggle.com/models/google/mobilenet-v2/TensorFlow2/050-224-classification/2\",\n",
    "    trainable=True,\n",
    "    arguments=dict(batch_norm_momentum=0.997),\n",
    ")"
   ]
  },
  {
   "cell_type": "code",
   "execution_count": null,
   "id": "034d3641",
   "metadata": {},
   "outputs": [],
   "source": [
    "import tf_keras\n",
    "\n",
    "IMAGE_SHAPE = (224, 224)\n",
    "classifier = tf_keras.Sequential(\n",
    "    [\n",
    "        hub.KerasLayer(\n",
    "            \"https://www.kaggle.com/models/google/mobilenet-v2/TensorFlow2/050-224-classification/2\",\n",
    "            input_shape=IMAGE_SHAPE + (3,),\n",
    "        )\n",
    "    ]\n",
    ")"
   ]
  },
  {
   "cell_type": "code",
   "execution_count": null,
   "id": "bde62944",
   "metadata": {},
   "outputs": [],
   "source": [
    "import pathlib\n",
    "\n",
    "dataset_url = \"https://storage.googleapis.com/download.tensorflow.org/example_images/flower_photos.tgz\"\n",
    "data_dir = tf.keras.utils.get_file(\n",
    "    \"flower_photos\", origin=dataset_url, untar=True, cache_dir=\".\"\n",
    ")\n",
    "data_dir = pathlib.Path(f\"{data_dir}/flower_photos\")"
   ]
  },
  {
   "cell_type": "code",
   "execution_count": null,
   "id": "db606319",
   "metadata": {},
   "outputs": [],
   "source": [
    "list(data_dir.glob(\"*/*.jpg\"))[:5]  # Display some of the images in the dataset"
   ]
  },
  {
   "cell_type": "code",
   "execution_count": null,
   "id": "5196af89",
   "metadata": {},
   "outputs": [],
   "source": [
    "roses = list(data_dir.glob(\"roses/*\"))\n",
    "tulips = list(data_dir.glob(\"tulips/*\"))\n",
    "daisy = list(data_dir.glob(\"daisy/*\"))\n",
    "dandelion = list(data_dir.glob(\"dandelion/*\"))\n",
    "sunflowers = list(data_dir.glob(\"sunflowers/*\"))"
   ]
  },
  {
   "cell_type": "code",
   "execution_count": null,
   "id": "d6e0a749",
   "metadata": {},
   "outputs": [],
   "source": [
    "flowers_image_dict = {\n",
    "    \"roses\": roses,\n",
    "    \"daisy\": daisy,\n",
    "    \"dandelion\": dandelion,\n",
    "    \"sunflowers\": sunflowers,\n",
    "    \"tulips\": tulips,\n",
    "}"
   ]
  },
  {
   "cell_type": "code",
   "execution_count": null,
   "id": "a6706bf6",
   "metadata": {},
   "outputs": [],
   "source": [
    "flowers_labels_dict = {\n",
    "    \"roses\": 0,\n",
    "    \"daisy\": 1,\n",
    "    \"dandelion\": 2,\n",
    "    \"sunflowers\": 3,\n",
    "    \"tulips\": 4,\n",
    "}"
   ]
  },
  {
   "cell_type": "code",
   "execution_count": null,
   "id": "d0b3ff38",
   "metadata": {},
   "outputs": [],
   "source": [
    "X, y = [], []\n",
    "for flower_name, images in flowers_image_dict.items():\n",
    "    for image in images:\n",
    "        img = cv2.imread(str(image))\n",
    "        resized_img = cv2.resize(img, IMAGE_SHAPE, interpolation=cv2.INTER_LANCZOS4)\n",
    "        X.append(resized_img)\n",
    "        y.append(flowers_labels_dict[flower_name])"
   ]
  },
  {
   "cell_type": "code",
   "execution_count": null,
   "id": "21f2a12a",
   "metadata": {},
   "outputs": [],
   "source": []
  },
  {
   "cell_type": "code",
   "execution_count": null,
   "id": "f09ef486",
   "metadata": {},
   "outputs": [],
   "source": [
    "import numpy as np\n",
    "\n",
    "X = np.array(X)\n",
    "y = np.array(y)"
   ]
  },
  {
   "cell_type": "code",
   "execution_count": null,
   "id": "bfe36c23",
   "metadata": {},
   "outputs": [],
   "source": [
    "from sklearn.model_selection import train_test_split\n",
    "\n",
    "X_train, X_test, y_train, y_test = train_test_split(X, y, random_state=0)\n",
    "X_train = X_train / 255.0\n",
    "X_test = X_test / 255.0"
   ]
  },
  {
   "cell_type": "code",
   "execution_count": null,
   "id": "73a84548",
   "metadata": {},
   "outputs": [],
   "source": [
    "predicted = classifier.predict(np.array([X[0], X[1], X[2]]))\n",
    "predicted = np.argmax(predicted, axis=-1)\n",
    "predicted"
   ]
  },
  {
   "cell_type": "code",
   "execution_count": null,
   "id": "2671f138",
   "metadata": {},
   "outputs": [],
   "source": [
    "with open(\"ImageNetLabels.txt\", \"r\") as f:\n",
    "    labels = f.read().splitlines()"
   ]
  },
  {
   "cell_type": "code",
   "execution_count": null,
   "id": "a4dc296c",
   "metadata": {},
   "outputs": [],
   "source": [
    "labels[predicted[0]], labels[predicted[1]], labels[predicted[2]]"
   ]
  },
  {
   "cell_type": "code",
   "execution_count": null,
   "id": "4be780cb",
   "metadata": {},
   "outputs": [],
   "source": [
    "feature_extractor_url = \"https://www.kaggle.com/models/google/mobilenet-v2/TensorFlow2/050-224-feature-vector/2\""
   ]
  },
  {
   "cell_type": "code",
   "execution_count": null,
   "id": "8b3e212d",
   "metadata": {},
   "outputs": [],
   "source": [
    "pretrained_model_without_top_layer = hub.KerasLayer(\n",
    "    feature_extractor_url, input_shape=IMAGE_SHAPE + (3,), trainable=False\n",
    ")"
   ]
  },
  {
   "cell_type": "code",
   "execution_count": null,
   "id": "8712683b",
   "metadata": {},
   "outputs": [],
   "source": [
    "model = tf_keras.Sequential(\n",
    "    [\n",
    "        pretrained_model_without_top_layer,\n",
    "        tf_keras.layers.Dense(5, activation=\"softmax\"),\n",
    "    ]\n",
    ")\n",
    "model.summary()"
   ]
  },
  {
   "cell_type": "code",
   "execution_count": null,
   "id": "336e6f2f",
   "metadata": {},
   "outputs": [],
   "source": [
    "model.compile(\n",
    "    optimizer=\"adam\", loss=\"sparse_categorical_crossentropy\", metrics=[\"accuracy\"]\n",
    ")"
   ]
  },
  {
   "cell_type": "code",
   "execution_count": null,
   "id": "db658053",
   "metadata": {},
   "outputs": [],
   "source": [
    "model.fit(X_train, y_train, epochs=20)"
   ]
  },
  {
   "cell_type": "code",
   "execution_count": null,
   "id": "cccfdd67",
   "metadata": {},
   "outputs": [],
   "source": [
    "model.evaluate(X_test, y_test)"
   ]
  }
 ],
 "metadata": {
  "kernelspec": {
   "display_name": "1 (3.13.7)",
   "language": "python",
   "name": "python3"
  },
  "language_info": {
   "codemirror_mode": {
    "name": "ipython",
    "version": 3
   },
   "file_extension": ".py",
   "mimetype": "text/x-python",
   "name": "python",
   "nbconvert_exporter": "python",
   "pygments_lexer": "ipython3",
   "version": "3.13.7"
  }
 },
 "nbformat": 4,
 "nbformat_minor": 5
}
