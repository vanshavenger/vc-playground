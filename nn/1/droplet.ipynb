{
 "cells": [
  {
   "cell_type": "code",
   "execution_count": null,
   "id": "094860b0",
   "metadata": {},
   "outputs": [],
   "source": [
    "import pandas as pd\n",
    "from tensorflow import keras\n",
    "\n",
    "%matplotlib inline"
   ]
  },
  {
   "cell_type": "code",
   "execution_count": null,
   "id": "76f04624",
   "metadata": {},
   "outputs": [],
   "source": [
    "df = pd.read_csv(\n",
    "    \"https://raw.githubusercontent.com/codebasics/deep-learning-keras-tf-tutorial/refs/heads/master/13_dropout_layer/sonar_dataset.csv\",\n",
    "    header=None,\n",
    ")"
   ]
  },
  {
   "cell_type": "code",
   "execution_count": null,
   "id": "ddd21676",
   "metadata": {},
   "outputs": [],
   "source": [
    "df.shape"
   ]
  },
  {
   "cell_type": "code",
   "execution_count": null,
   "id": "da5d4948",
   "metadata": {},
   "outputs": [],
   "source": [
    "df.isna().sum()"
   ]
  },
  {
   "cell_type": "code",
   "execution_count": null,
   "id": "91ceb6d7",
   "metadata": {},
   "outputs": [],
   "source": [
    "X = df.drop(columns=60, axis=1)\n",
    "y = df[60]"
   ]
  },
  {
   "cell_type": "code",
   "execution_count": null,
   "id": "aaf24b0f",
   "metadata": {},
   "outputs": [],
   "source": [
    "y = pd.get_dummies(y, drop_first=True)\n",
    "y.sample(5)"
   ]
  },
  {
   "cell_type": "code",
   "execution_count": null,
   "id": "9e2e7154",
   "metadata": {},
   "outputs": [],
   "source": [
    "from sklearn.model_selection import train_test_split\n",
    "\n",
    "X_train, X_test, y_train, y_test = train_test_split(\n",
    "    X, y, test_size=0.25, random_state=1\n",
    ")"
   ]
  },
  {
   "cell_type": "code",
   "execution_count": null,
   "id": "69de35cd",
   "metadata": {},
   "outputs": [],
   "source": [
    "model = keras.Sequential(\n",
    "    [\n",
    "        keras.Input(shape=(60,)),\n",
    "        keras.layers.Dense(45, activation=\"relu\"),\n",
    "        keras.layers.Dense(30, activation=\"relu\"),\n",
    "        keras.layers.Dense(15, activation=\"relu\"),\n",
    "        keras.layers.Dense(1, activation=\"sigmoid\"),\n",
    "    ]\n",
    ")\n",
    "\n",
    "model.compile(optimizer=\"adam\", loss=\"binary_crossentropy\", metrics=[\"accuracy\"])"
   ]
  },
  {
   "cell_type": "code",
   "execution_count": null,
   "id": "05b25914",
   "metadata": {},
   "outputs": [],
   "source": [
    "model.fit(X_train, y_train, epochs=100, batch_size=9)"
   ]
  },
  {
   "cell_type": "code",
   "execution_count": null,
   "id": "b7405f63",
   "metadata": {},
   "outputs": [],
   "source": [
    "model.evaluate(X_test, y_test)"
   ]
  },
  {
   "cell_type": "code",
   "execution_count": null,
   "id": "5e38c9db",
   "metadata": {},
   "outputs": [],
   "source": [
    "model = keras.Sequential(\n",
    "    [\n",
    "        keras.Input(shape=(60,)),\n",
    "        keras.layers.Dense(30, activation=\"relu\"),\n",
    "        keras.layers.Dropout(0.5),\n",
    "        keras.layers.Dense(15, activation=\"relu\"),\n",
    "        keras.layers.Dense(1, activation=\"sigmoid\"),\n",
    "    ]\n",
    ")\n",
    "\n",
    "model.compile(optimizer=\"adam\", loss=\"binary_crossentropy\", metrics=[\"accuracy\"])"
   ]
  },
  {
   "cell_type": "code",
   "execution_count": null,
   "id": "35c9452f",
   "metadata": {},
   "outputs": [],
   "source": [
    "model.compile(optimizer=\"adam\", loss=\"binary_crossentropy\", metrics=[\"accuracy\"])"
   ]
  },
  {
   "cell_type": "code",
   "execution_count": null,
   "id": "9396816b",
   "metadata": {},
   "outputs": [],
   "source": [
    "model.fit(X_train, y_train, epochs=100, batch_size=9)"
   ]
  },
  {
   "cell_type": "code",
   "execution_count": null,
   "id": "54609d79",
   "metadata": {},
   "outputs": [],
   "source": [
    "model.evaluate(X_test, y_test)"
   ]
  },
  {
   "cell_type": "markdown",
   "id": "6745cd72",
   "metadata": {},
   "source": [
    "# What is Dropout Regularization?\n",
    "\n",
    "**Dropout** is a regularization technique that helps prevent overfitting in neural networks.\n",
    "\n",
    "## How Dropout Works:\n",
    "1. **During Training**: Randomly sets a fraction of input units to 0 at each update\n",
    "2. **During Inference**: All neurons are active, but their outputs are scaled down\n",
    "\n",
    "## Key Points:\n",
    "- **Rate**: `Dropout(0.5)` means 50% of neurons are randomly \"dropped out\" during training\n",
    "- **Purpose**: Forces the network to not rely too heavily on any single neuron\n",
    "- **Effect**: Reduces overfitting and improves generalization\n",
    "\n",
    "## Does Dropout Remove High-Value Features?\n",
    "**No, dropout does NOT permanently remove high-value features.** Here's why:\n",
    "\n",
    "1. **Random Process**: Dropout randomly selects which neurons to deactivate\n",
    "2. **Temporary**: Only during training, not during actual prediction\n",
    "3. **Feature Preservation**: Important features will still contribute through other neurons\n",
    "4. **Network Robustness**: Forces the network to learn multiple pathways to the same result"
   ]
  }
 ],
 "metadata": {
  "kernelspec": {
   "display_name": "1 (3.12.9)",
   "language": "python",
   "name": "python3"
  },
  "language_info": {
   "codemirror_mode": {
    "name": "ipython",
    "version": 3
   },
   "file_extension": ".py",
   "mimetype": "text/x-python",
   "name": "python",
   "nbconvert_exporter": "python",
   "pygments_lexer": "ipython3",
   "version": "3.12.9"
  }
 },
 "nbformat": 4,
 "nbformat_minor": 5
}
